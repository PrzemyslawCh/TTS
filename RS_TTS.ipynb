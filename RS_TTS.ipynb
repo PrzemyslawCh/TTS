{
  "nbformat": 4,
  "nbformat_minor": 0,
  "metadata": {
    "colab": {
      "provenance": [],
      "collapsed_sections": [
        "fm7OFpV3qMy-"
      ],
      "gpuClass": "premium",
      "mount_file_id": "1rmsWJaqT0BydRex6FhFVH2uSjWociLJL",
      "authorship_tag": "ABX9TyN0f6X/BhOKEWNwnpM5e2L6",
      "include_colab_link": true
    },
    "kernelspec": {
      "name": "python3",
      "display_name": "Python 3"
    },
    "language_info": {
      "name": "python"
    },
    "accelerator": "GPU",
    "gpuClass": "premium"
  },
  "cells": [
    {
      "cell_type": "markdown",
      "metadata": {
        "id": "view-in-github",
        "colab_type": "text"
      },
      "source": [
        "<a href=\"https://colab.research.google.com/github/PrzemyslawCh/TTS/blob/main/RS_TTS.ipynb\" target=\"_parent\"><img src=\"https://colab.research.google.com/assets/colab-badge.svg\" alt=\"Open In Colab\"/></a>"
      ]
    },
    {
      "cell_type": "code",
      "source": [
        "!nvidia-smi"
      ],
      "metadata": {
        "colab": {
          "base_uri": "https://localhost:8080/"
        },
        "id": "eL6whuDrrYIo",
        "outputId": "b2cd0df9-9821-4e52-ae3b-b164bb6da9fb"
      },
      "execution_count": null,
      "outputs": [
        {
          "output_type": "stream",
          "name": "stdout",
          "text": [
            "Mon Apr  3 11:25:11 2023       \n",
            "+-----------------------------------------------------------------------------+\n",
            "| NVIDIA-SMI 525.85.12    Driver Version: 525.85.12    CUDA Version: 12.0     |\n",
            "|-------------------------------+----------------------+----------------------+\n",
            "| GPU  Name        Persistence-M| Bus-Id        Disp.A | Volatile Uncorr. ECC |\n",
            "| Fan  Temp  Perf  Pwr:Usage/Cap|         Memory-Usage | GPU-Util  Compute M. |\n",
            "|                               |                      |               MIG M. |\n",
            "|===============================+======================+======================|\n",
            "|   0  NVIDIA A100-SXM...  Off  | 00000000:00:04.0 Off |                    0 |\n",
            "| N/A   33C    P0    44W / 400W |      0MiB / 40960MiB |      0%      Default |\n",
            "|                               |                      |             Disabled |\n",
            "+-------------------------------+----------------------+----------------------+\n",
            "                                                                               \n",
            "+-----------------------------------------------------------------------------+\n",
            "| Processes:                                                                  |\n",
            "|  GPU   GI   CI        PID   Type   Process name                  GPU Memory |\n",
            "|        ID   ID                                                   Usage      |\n",
            "|=============================================================================|\n",
            "|  No running processes found                                                 |\n",
            "+-----------------------------------------------------------------------------+\n"
          ]
        }
      ]
    },
    {
      "cell_type": "markdown",
      "source": [
        "## 1. Scraping data from [101soundboards.com](https://www.101soundboards.com/boards/11050-rick-sanchez-sounds-rick-and-morty-season-1)\n",
        "\n",
        "\n",
        "\n"
      ],
      "metadata": {
        "id": "fm7OFpV3qMy-"
      }
    },
    {
      "cell_type": "code",
      "source": [
        "# 1.1 installing neccesary libraries\n",
        "\n",
        "!pip install httpx\n",
        "import httpx\n",
        "from bs4 import BeautifulSoup\n",
        "import re\n",
        "import os\n",
        "import json\n",
        "import asyncio\n",
        "import requests"
      ],
      "metadata": {
        "id": "ErvlH6e8qfKl",
        "colab": {
          "base_uri": "https://localhost:8080/"
        },
        "outputId": "da215d1a-3865-44cc-ff08-a55b4a3871f5"
      },
      "execution_count": null,
      "outputs": [
        {
          "output_type": "stream",
          "name": "stdout",
          "text": [
            "Looking in indexes: https://pypi.org/simple, https://us-python.pkg.dev/colab-wheels/public/simple/\n",
            "Collecting httpx\n",
            "  Downloading httpx-0.23.3-py3-none-any.whl (71 kB)\n",
            "\u001b[2K     \u001b[90m━━━━━━━━━━━━━━━━━━━━━━━━━━━━━━━━━━━━━━━━\u001b[0m \u001b[32m71.5/71.5 KB\u001b[0m \u001b[31m11.5 MB/s\u001b[0m eta \u001b[36m0:00:00\u001b[0m\n",
            "\u001b[?25hCollecting sniffio\n",
            "  Downloading sniffio-1.3.0-py3-none-any.whl (10 kB)\n",
            "Requirement already satisfied: certifi in /usr/local/lib/python3.9/dist-packages (from httpx) (2022.12.7)\n",
            "Collecting httpcore<0.17.0,>=0.15.0\n",
            "  Downloading httpcore-0.16.3-py3-none-any.whl (69 kB)\n",
            "\u001b[2K     \u001b[90m━━━━━━━━━━━━━━━━━━━━━━━━━━━━━━━━━━━━━━━━\u001b[0m \u001b[32m69.6/69.6 KB\u001b[0m \u001b[31m11.8 MB/s\u001b[0m eta \u001b[36m0:00:00\u001b[0m\n",
            "\u001b[?25hCollecting rfc3986[idna2008]<2,>=1.3\n",
            "  Downloading rfc3986-1.5.0-py2.py3-none-any.whl (31 kB)\n",
            "Collecting h11<0.15,>=0.13\n",
            "  Downloading h11-0.14.0-py3-none-any.whl (58 kB)\n",
            "\u001b[2K     \u001b[90m━━━━━━━━━━━━━━━━━━━━━━━━━━━━━━━━━━━━━━━━\u001b[0m \u001b[32m58.3/58.3 KB\u001b[0m \u001b[31m9.1 MB/s\u001b[0m eta \u001b[36m0:00:00\u001b[0m\n",
            "\u001b[?25hCollecting anyio<5.0,>=3.0\n",
            "  Downloading anyio-3.6.2-py3-none-any.whl (80 kB)\n",
            "\u001b[2K     \u001b[90m━━━━━━━━━━━━━━━━━━━━━━━━━━━━━━━━━━━━━━━━\u001b[0m \u001b[32m80.6/80.6 KB\u001b[0m \u001b[31m8.8 MB/s\u001b[0m eta \u001b[36m0:00:00\u001b[0m\n",
            "\u001b[?25hRequirement already satisfied: idna in /usr/local/lib/python3.9/dist-packages (from rfc3986[idna2008]<2,>=1.3->httpx) (3.4)\n",
            "Installing collected packages: rfc3986, sniffio, h11, anyio, httpcore, httpx\n",
            "Successfully installed anyio-3.6.2 h11-0.14.0 httpcore-0.16.3 httpx-0.23.3 rfc3986-1.5.0 sniffio-1.3.0\n"
          ]
        }
      ]
    },
    {
      "cell_type": "code",
      "source": [
        "# 1.2 Extract link from websites\n",
        "def extract_links(urls):\n",
        "    extracted_links = []\n",
        "    for url in urls:\n",
        "        response = requests.get(url)\n",
        "        html = response.text\n",
        "        board_data_inline = re.search(r'var board_data_inline\\s*=\\s*({.*});', html).group(1)\n",
        "        board_data = json.loads(board_data_inline)\n",
        "        for sound in board_data['sounds']:\n",
        "            div_id = sound['id']\n",
        "            transcript = sound['sound_transcript']\n",
        "            link = f\"https://www.101soundboards.com/sounds/{div_id}-{transcript.replace(' ', '-')}\"\n",
        "            extracted_links.append(link)\n",
        "    return extracted_links"
      ],
      "metadata": {
        "id": "eMzwYRkW9eTV"
      },
      "execution_count": null,
      "outputs": []
    },
    {
      "cell_type": "code",
      "source": [
        "urls = [\n",
        "    'https://www.101soundboards.com/boards/11050-rick-sanchez-sounds-rick-and-morty-season-1',\n",
        "    'https://www.101soundboards.com/boards/11051-rick-sanchez-sounds-rick-and-morty-season-2'\n",
        "]\n",
        "\n",
        "links = extract_links(urls)\n",
        "print(len(links))\n",
        "print(links)"
      ],
      "metadata": {
        "colab": {
          "base_uri": "https://localhost:8080/"
        },
        "id": "PHwJV0DU9f18",
        "outputId": "a8ac2152-b367-42be-e8c3-a59b5a034f3d"
      },
      "execution_count": null,
      "outputs": [
        {
          "output_type": "stream",
          "name": "stdout",
          "text": [
            "303\n",
            "['https://www.101soundboards.com/sounds/59669-A-moment-of-your-time.', 'https://www.101soundboards.com/sounds/59608-After-you-cried-and-crapped-your-pants.', \"https://www.101soundboards.com/sounds/59688-And-I-know-that's-not-a-popular-opinion.\", 'https://www.101soundboards.com/sounds/59616-Anything-else?', 'https://www.101soundboards.com/sounds/59653-Are-you-people-even-human', 'https://www.101soundboards.com/sounds/59610-Are-you-the-devil-a-demon-leprechaun?', 'https://www.101soundboards.com/sounds/59611-Are-you-the-devil?', 'https://www.101soundboards.com/sounds/59664-Because-I-got-I-got-a-big-you-know-penis-between-my-legs.', \"https://www.101soundboards.com/sounds/59657-Because-I'm-having-a-party-bitch.\", 'https://www.101soundboards.com/sounds/59598-Bitch.', 'https://www.101soundboards.com/sounds/59594-Block-Papa-nuke.-Nuke,-nuke,-nuke-nuke.', 'https://www.101soundboards.com/sounds/59583-Boy,-you-really-are-17.', 'https://www.101soundboards.com/sounds/59724-Boy,-you-really-got-me-up-against-the-wall-this-time-Jerry.', 'https://www.101soundboards.com/sounds/59694-Bunch-of-people-running-around-bumping-into-each-other.-Got-guy-up.-Front-says-2-+-2-other-people-in-the-next-8-4.-Then-they-did-the-Bell-rings.-They-give-you-a-carton-of-milk-in-a-piece-of-paper-t...', \"https://www.101soundboards.com/sounds/59703-But-I'll-tell-you-something,-tell-you-how-I-feel-about-school,-Jerry.\", \"https://www.101soundboards.com/sounds/59603-Careful-guys,-you're-going-to-burn-up-the-CPU-with-this-one.\", 'https://www.101soundboards.com/sounds/59607-Course-not-morty.', 'https://www.101soundboards.com/sounds/59640-Did-you-hear-me-say-it?', 'https://www.101soundboards.com/sounds/59619-Does-evil-exist,-and-if-so,-can-one-detect-and-measure?', \"https://www.101soundboards.com/sounds/59614-Don't-be-like-that.\", \"https://www.101soundboards.com/sounds/59584-Don't-break-an-arm-jerking-yourself-off.\", \"https://www.101soundboards.com/sounds/59615-Don't-look-at-me-dude.\", 'https://www.101soundboards.com/sounds/59721-From-tiny-Rogers', 'https://www.101soundboards.com/sounds/59621-Fuck-him.-Fuck-those-people.', 'https://www.101soundboards.com/sounds/59620-Fuck-those-people.', 'https://www.101soundboards.com/sounds/59622-Fuck.', 'https://www.101soundboards.com/sounds/59625-Gazorpazorp-in-the-Andromeda-system', \"https://www.101soundboards.com/sounds/59658-Geez,-you're-easy-to-impress.\", \"https://www.101soundboards.com/sounds/59700-Get-up-that-band-aid-off-now-you'll-thank-me-later.\", 'https://www.101soundboards.com/sounds/59632-Good-idea.', 'https://www.101soundboards.com/sounds/59634-Ha.', 'https://www.101soundboards.com/sounds/59623-Have-fun.', 'https://www.101soundboards.com/sounds/59643-Hello.', 'https://www.101soundboards.com/sounds/59644-Hello.', 'https://www.101soundboards.com/sounds/59618-Hey-everybody.', \"https://www.101soundboards.com/sounds/59681-Hey,-I'm-not-judging.-Just-like-to-shoot-straight.\", 'https://www.101soundboards.com/sounds/59672-Hey,-you-know-I-was-thinking,-you-know,-I-might-watch-a-movie.', 'https://www.101soundboards.com/sounds/59648-Hey.', 'https://www.101soundboards.com/sounds/59649-Hey.', 'https://www.101soundboards.com/sounds/59646-Hey.', 'https://www.101soundboards.com/sounds/59647-Hey.', 'https://www.101soundboards.com/sounds/59650-Holy-crap.', 'https://www.101soundboards.com/sounds/59651-Holy-crap.', 'https://www.101soundboards.com/sounds/59635-Holy-shit.', 'https://www.101soundboards.com/sounds/59729-How-about-some-Scotch-whisky?-You-got-any-of-that-around-here?', \"https://www.101soundboards.com/sounds/59600-How's-business?\", 'https://www.101soundboards.com/sounds/59652-Huh?', \"https://www.101soundboards.com/sounds/59722-I-can't-abide-bureaucracy.-I-don't-like-being-told-where-to-go-and-what-to-do.-I-consider-it-a-violation.\", \"https://www.101soundboards.com/sounds/59715-I-can't-believe-our-tax-dollars-pay-for-this.\", \"https://www.101soundboards.com/sounds/59613-I-don't-give-a-fuck-what-you-think-Jerry\", \"https://www.101soundboards.com/sounds/59624-I-don't-give-a-fuck.\", \"https://www.101soundboards.com/sounds/59665-I-don't-know-how-much.-I-don't-know-what-that-is.-Is-that-a-lot?-Is-it-a-little?\", \"https://www.101soundboards.com/sounds/59655-I-don't-know-what-you-mean-by-that.-Can-you-be-a-little-bit-more-specific?\", \"https://www.101soundboards.com/sounds/59597-I-don't-wanna-overstep-my-bounds-or-anything,-it's-your-house.-It's-your-world.-Your-real-Julius-Caesar.\", 'https://www.101soundboards.com/sounds/59595-I-just-got-bored-everybody-out.', 'https://www.101soundboards.com/sounds/59690-I-make-my-own-stuff.', 'https://www.101soundboards.com/sounds/59627-I-mean-we-got,-we-gotta-get-get-the-hell-out-of-here-and-go-take-care-of-business.', 'https://www.101soundboards.com/sounds/59677-I-never-had-any-kids-of-my-own.', 'https://www.101soundboards.com/sounds/59671-I-was-thinking,-you-know,-I-might-watch-a-movie.', \"https://www.101soundboards.com/sounds/59686-I-wouldn't-want-to-offend-you-in-any-way.\", \"https://www.101soundboards.com/sounds/59702-I'll-tell-you-what-though,-if-I-if-it's-satisfaction-you're-after,-I-think-I-might-have-an-idea.\", \"https://www.101soundboards.com/sounds/59626-I'm-a-genius.\", \"https://www.101soundboards.com/sounds/59696-If-I-were-you,-I-wouldn't-pull-that-thread.\", 'https://www.101soundboards.com/sounds/59713-It-takes-1-to-know-one.', 'https://www.101soundboards.com/sounds/59740-It-was-your-idea.', \"https://www.101soundboards.com/sounds/59725-It's-a-waste-of-time.\", \"https://www.101soundboards.com/sounds/59689-It's-all-over-Jerry\", \"https://www.101soundboards.com/sounds/59687-It's-like-that-old-song-block.-Papa,-nuke,-nuke,-nuke,-nuke,-nuke.\", \"https://www.101soundboards.com/sounds/59629-It's-time-to-go-back-to-our-lives.\", 'https://www.101soundboards.com/sounds/59659-Jerry', 'https://www.101soundboards.com/sounds/59596-Jesus-Christ-our-Savior-was-born-today.', \"https://www.101soundboards.com/sounds/59601-Just-don't-get-too-big-for-your-loafers.-Buster-Brown.\", 'https://www.101soundboards.com/sounds/59637-Keep-your-hands-off-your-Ding-Dong.', 'https://www.101soundboards.com/sounds/59732-Kind-of-makes-you-wonder,-huh?', 'https://www.101soundboards.com/sounds/59662-Later.', 'https://www.101soundboards.com/sounds/59586-Let-me-ask-you-a-question-real-quick.', 'https://www.101soundboards.com/sounds/59617-Listen-to-me,-I-got-an-errand-to-run-in-a-whole-different-dimension.', \"https://www.101soundboards.com/sounds/59667-Martin-Luther-King-Junior's-birthday.\", \"https://www.101soundboards.com/sounds/59699-Maybe-you're-right,-Jerry.\", 'https://www.101soundboards.com/sounds/59670-Morty', 'https://www.101soundboards.com/sounds/59691-Nice-to-be-on-the-same-page-every-once-in-awhile.', 'https://www.101soundboards.com/sounds/59674-No.', 'https://www.101soundboards.com/sounds/59675-No.', 'https://www.101soundboards.com/sounds/59676-No.', 'https://www.101soundboards.com/sounds/59679-No.', 'https://www.101soundboards.com/sounds/59680-Nope.', 'https://www.101soundboards.com/sounds/59589-Not-a-good-time.', 'https://www.101soundboards.com/sounds/59682-Not-sure.', 'https://www.101soundboards.com/sounds/59654-Of-course-I-am.', \"https://www.101soundboards.com/sounds/59588-Oh-look,-it's-Rosemary's-baby.\", 'https://www.101soundboards.com/sounds/59685-Oh-shit-dog.', 'https://www.101soundboards.com/sounds/59684-Oh-shit-motherfucker.', 'https://www.101soundboards.com/sounds/59591-OK-Jerry,-you-drive-a-hard-bargain,-but-what-am-I-supposed-to-do,-say,-say-no?', 'https://www.101soundboards.com/sounds/59741-OK-Jerry.', 'https://www.101soundboards.com/sounds/59693-Party.', 'https://www.101soundboards.com/sounds/59602-Pass-the-butter.', 'https://www.101soundboards.com/sounds/59590-Please-proceed-with-your-story-about-banging-my-daughter-in-high-school.', 'https://www.101soundboards.com/sounds/59731-Poop.', 'https://www.101soundboards.com/sounds/59698-Poor-little-rickless-bastards.', 'https://www.101soundboards.com/sounds/59692-Regular-pancakes-are-already-shaped-like-flying-saucers.', 'https://www.101soundboards.com/sounds/59663-Rick-Sanchez-Sounds:-Rick-and-Morty---Season-1-Sound', 'https://www.101soundboards.com/sounds/59718-Rick-Sanchez-Sounds:-Rick-and-Morty---Season-1-Sound', 'https://www.101soundboards.com/sounds/59633-Rick-Sanchez-Sounds:-Rick-and-Morty---Season-1-Sound', 'https://www.101soundboards.com/sounds/59706-Seriously?', \"https://www.101soundboards.com/sounds/59656-She's-an-idiot.\", 'https://www.101soundboards.com/sounds/59660-Since-when-do-you-have-a-job?', 'https://www.101soundboards.com/sounds/59707-So-everyone-supposed-to-sleep-every-single-night-now.', 'https://www.101soundboards.com/sounds/59612-So-what-are-you-like-the-devil?', 'https://www.101soundboards.com/sounds/59709-So.', 'https://www.101soundboards.com/sounds/59710-Sorry.', \"https://www.101soundboards.com/sounds/59712-Sure,-why-not?-I-don't,-I-don't-know.\", 'https://www.101soundboards.com/sounds/59716-Thank-you-very-much.', 'https://www.101soundboards.com/sounds/59717-Thanks.', \"https://www.101soundboards.com/sounds/59609-That-is-a-really-nice-cute-top-that-you're-wearing-there.\", \"https://www.101soundboards.com/sounds/59604-That's-my-two-cents-on-the-issue.\", 'https://www.101soundboards.com/sounds/59638-The-hell-happened-to-this-place.', 'https://www.101soundboards.com/sounds/59645-There-is-something-you-could-help-us-with.', 'https://www.101soundboards.com/sounds/59599-This-is-a-bunch-of-bull-crap.', 'https://www.101soundboards.com/sounds/59708-This-is-just-sloppy-craftsmanship.', 'https://www.101soundboards.com/sounds/59701-This-is-Ruben.', \"https://www.101soundboards.com/sounds/59673-Thought-you'd-never-ask.\", 'https://www.101soundboards.com/sounds/59593-To-me-this-was-all-just-a-bit-like-when-Bugs-Bunny-fucks-with-the-opera-singer-for-20-minutes.', \"https://www.101soundboards.com/sounds/59683-We-both-know-it-wouldn't-work.\", 'https://www.101soundboards.com/sounds/59606-We-gotta-bunch-of-robot-computer-people-sitting-around-with-their-faces-stuffed-in-a-computer-screen.', 'https://www.101soundboards.com/sounds/59592-We-talked-about-this,-you-and-your-parents-and-I-have-very-disappointed-in-this-behavior.', \"https://www.101soundboards.com/sounds/59719-We're-done-here.-Time-to-go.\", 'https://www.101soundboards.com/sounds/59587-What-are-you-asking-me-for,-Jerry?', 'https://www.101soundboards.com/sounds/59711-What-are-you-guys-doing-with-my-stuff?', 'https://www.101soundboards.com/sounds/59705-What-do-you-think-I-can-just-do-it-all-by-myself?', 'https://www.101soundboards.com/sounds/59666-What-people-call-love-is-just-a-chemical-reaction-that-compels-animals-to-breed.', \"https://www.101soundboards.com/sounds/59631-What-what's-going-on?\", \"https://www.101soundboards.com/sounds/59630-What's-going-on?\", 'https://www.101soundboards.com/sounds/59727-Whatever-(1)', 'https://www.101soundboards.com/sounds/59728-Whatever-(2)', 'https://www.101soundboards.com/sounds/59730-Who-is-this?', 'https://www.101soundboards.com/sounds/59639-Wow-hat-trick.', 'https://www.101soundboards.com/sounds/59735-Wrecked-son', 'https://www.101soundboards.com/sounds/59723-Wubba-Lubba-Dub-Dub', 'https://www.101soundboards.com/sounds/59704-Yeah-give-me-a-sec', 'https://www.101soundboards.com/sounds/59642-Yeah-hello.', 'https://www.101soundboards.com/sounds/59714-Yeah,-talk-to-me.', 'https://www.101soundboards.com/sounds/59736-Yeah.', 'https://www.101soundboards.com/sounds/59737-Yeah.', 'https://www.101soundboards.com/sounds/59738-Yeah.', 'https://www.101soundboards.com/sounds/59739-Yo-Ding-Dong.', \"https://www.101soundboards.com/sounds/59720-Yo-Ding-Dong.-We're-done-here.-Time-to-go.\", 'https://www.101soundboards.com/sounds/59585-You-ask-a-lot-of-questions,-Morty.', \"https://www.101soundboards.com/sounds/59678-You-can't-have-a-party.\", \"https://www.101soundboards.com/sounds/59628-You-girls-are-really-something.-I'll-tell-you-that.\", 'https://www.101soundboards.com/sounds/59661-You-guys-know-that-song.', 'https://www.101soundboards.com/sounds/59605-You-guys-realize-that-Christ-was-born-today.', \"https://www.101soundboards.com/sounds/59733-You-have-my-word-as-a-caregiver.-Everything's-gonna-be-fine.\", 'https://www.101soundboards.com/sounds/59582-You-know-the-black-effeminate-guy-from-the-50s?', 'https://www.101soundboards.com/sounds/59668-You-know-what-I-mean?', 'https://www.101soundboards.com/sounds/59641-You-never-heard-of-it.', 'https://www.101soundboards.com/sounds/59636-You-realize-at-night-time-makes-up-half-of-all-time.', 'https://www.101soundboards.com/sounds/59734-You-work-for-the-devil.', \"https://www.101soundboards.com/sounds/59695-You're-missing-the-point,-Morty.\", \"https://www.101soundboards.com/sounds/59726-You're-welcome.\", \"https://www.101soundboards.com/sounds/59697-'cause-I'm-the-richest-Rick-there-is?\", 'https://www.101soundboards.com/sounds/59804-Ah.', 'https://www.101soundboards.com/sounds/59861-Ah.', 'https://www.101soundboards.com/sounds/59752-Alien-bureaucrats-are-gonna-arrest-you.', 'https://www.101soundboards.com/sounds/59787-Alright,-hear-me-out-on-this.', \"https://www.101soundboards.com/sounds/59755-Alright,-I'm-bored.\", 'https://www.101soundboards.com/sounds/59748-Amazing.', 'https://www.101soundboards.com/sounds/59764-And-how-dare-you-even-ask-me-that?', 'https://www.101soundboards.com/sounds/59767-And-I-love-sucking-big,-sweaty-boners-and-licking-disgusting-furry-testicle-sacks.', 'https://www.101soundboards.com/sounds/59805-And-I-thought-you-learned-that-by-now.', 'https://www.101soundboards.com/sounds/59874-And-if-you-spend-all-day-shuffling-words-around,-you-can-make-anything-sound-bad,-Morty.', 'https://www.101soundboards.com/sounds/59875-Any-of-your-scientists-working-on-anything-new?', 'https://www.101soundboards.com/sounds/59863-Anyone-working-on,-say,-a-little-universe-in-a-box?', 'https://www.101soundboards.com/sounds/59789-But-hey.', 'https://www.101soundboards.com/sounds/59808-By-the-way,-life-on-other-planets-exists.', 'https://www.101soundboards.com/sounds/59757-Bye.', \"https://www.101soundboards.com/sounds/59831-Couldn't-help-but-notice-that-you-were-having-problems-generating-power.\", 'https://www.101soundboards.com/sounds/59762-Crommelin-from-the-Sickness-5-expanse.', 'https://www.101soundboards.com/sounds/59768-Do-this-thing.', \"https://www.101soundboards.com/sounds/59830-Don't-hate-the-player,-hate-the-game,-son.\", 'https://www.101soundboards.com/sounds/59770-Dumb.', 'https://www.101soundboards.com/sounds/59761-Eating-that-motherfucking-ice-cream.-Slurping,-slurping,-slurping-it-up.', 'https://www.101soundboards.com/sounds/59771-Energy-wise.', 'https://www.101soundboards.com/sounds/59872-Fine,-whatever.', 'https://www.101soundboards.com/sounds/59777-Fine.', 'https://www.101soundboards.com/sounds/59773-Fuck-you.', \"https://www.101soundboards.com/sounds/59786-Get-your-head-out-of-your-family's-ass.\", 'https://www.101soundboards.com/sounds/59802-Ha-ha-ha.', 'https://www.101soundboards.com/sounds/59803-Ha.', 'https://www.101soundboards.com/sounds/59788-Hell-yeah.', \"https://www.101soundboards.com/sounds/59774-Here's-dessert.-Fuck-you.\", 'https://www.101soundboards.com/sounds/59772-Hi,-everybody.', 'https://www.101soundboards.com/sounds/59852-Hi,-sweetie.', 'https://www.101soundboards.com/sounds/59784-Holy-shit.', 'https://www.101soundboards.com/sounds/59769-How-about-that-drink?', 'https://www.101soundboards.com/sounds/59766-I-disagree.', \"https://www.101soundboards.com/sounds/59792-I-don't-know.\", 'https://www.101soundboards.com/sounds/59783-I-guess-I-remember-that.', \"https://www.101soundboards.com/sounds/59814-I-haven't-seen-you-in-months.\", \"https://www.101soundboards.com/sounds/59745-I-just-got-back-from-Walmart.-They're-selling-Nintendo-3DS-systems-for-one-4999-on-sale.-Plus-every-time-you-buy-one-you-get-a-$50.00-gift-card.-Brings-the-total-price-down-to-$110-after-tax.\", 'https://www.101soundboards.com/sounds/59776-I-need-you-to-do-me-a-favor.', 'https://www.101soundboards.com/sounds/59838-I-remember-the-conversation.', 'https://www.101soundboards.com/sounds/59754-I-think-this-might-be-it.', \"https://www.101soundboards.com/sounds/59842-I'll-see-you-around.\", \"https://www.101soundboards.com/sounds/59763-I'll-see-you-motherfuckers-at-the-dance.\", \"https://www.101soundboards.com/sounds/59877-I'm-not-looking-for-judgment,-just-a-yes-or-no.\", \"https://www.101soundboards.com/sounds/59859-I'm-tiny-Rick.\", \"https://www.101soundboards.com/sounds/59849-I've-heard-stories-from-other-Ricks.\", 'https://www.101soundboards.com/sounds/59775-In-your-face.', 'https://www.101soundboards.com/sounds/59750-It-really-makes-you-appreciate-how-fickle-the-universe-can-be.', \"https://www.101soundboards.com/sounds/59785-It's-hard-for-us-to-comprehend-all-this.\", 'https://www.101soundboards.com/sounds/59795-Jerry.', 'https://www.101soundboards.com/sounds/59796-Jerry.', 'https://www.101soundboards.com/sounds/59794-Jesus-Christ.', \"https://www.101soundboards.com/sounds/59779-Jesus,-there's-flies-in-my-ice-cream.\", 'https://www.101soundboards.com/sounds/59876-Just-a-yes-or-no?', 'https://www.101soundboards.com/sounds/59753-Let-me-ask-you-something.', 'https://www.101soundboards.com/sounds/59807-Lick,-lick,-lick-my-balls.', \"https://www.101soundboards.com/sounds/59827-Listen,-I'm-not-the-nicest-guy-in-the-universe.\", 'https://www.101soundboards.com/sounds/59756-Male-or-providien?', \"https://www.101soundboards.com/sounds/59832-Man,-that-guy-is-the-red-grin-grumble-to-pretending-he-knows-what's-going-on.\", 'https://www.101soundboards.com/sounds/59816-Morty.', 'https://www.101soundboards.com/sounds/59817-My-name-is-Rick-Sanchez.', \"https://www.101soundboards.com/sounds/59818-Negative-visualization.-Jerry-explains-a-lot-about-where-you're-at.\", 'https://www.101soundboards.com/sounds/59820-Nice.', 'https://www.101soundboards.com/sounds/59823-No-can-do.', 'https://www.101soundboards.com/sounds/59822-No-such-agenda,-chief.', 'https://www.101soundboards.com/sounds/59824-No,-Frasier.', 'https://www.101soundboards.com/sounds/59821-No.', 'https://www.101soundboards.com/sounds/59825-No.', 'https://www.101soundboards.com/sounds/59826-No.', \"https://www.101soundboards.com/sounds/59759-No.-Can't-do,-morty.-I-just-can't.\", 'https://www.101soundboards.com/sounds/59781-Ohh-goodie.', 'https://www.101soundboards.com/sounds/59782-Ohh-great.', 'https://www.101soundboards.com/sounds/59847-Ohh.', 'https://www.101soundboards.com/sounds/59883-OK,-yes.', 'https://www.101soundboards.com/sounds/59884-OK.', 'https://www.101soundboards.com/sounds/59836-Punk-ass-little-bitch.', 'https://www.101soundboards.com/sounds/59837-Relax-and-stop-being-a-pussy,-Morty.', 'https://www.101soundboards.com/sounds/59839-Rick.', 'https://www.101soundboards.com/sounds/59854-Ricky-Ticky,-Tavy-beach.', 'https://www.101soundboards.com/sounds/59853-Rikki-tikki-tavi.', 'https://www.101soundboards.com/sounds/59841-Rubber-baby-baby-bunkers.', 'https://www.101soundboards.com/sounds/59845-Shum-Shum-slippity-DOP.', 'https://www.101soundboards.com/sounds/59846-Shut-up,-morty.', 'https://www.101soundboards.com/sounds/59811-So-did-you-guys-make-out-a-little-bit?', \"https://www.101soundboards.com/sounds/59862-So-I-really-think-what-you're-doing-here-is-unethical.\", 'https://www.101soundboards.com/sounds/59848-Sorry-about-that.', 'https://www.101soundboards.com/sounds/59799-Summer-Smith-is-a-fucking-psycho-nerd-and-she-just-got-me-kicked-out-of-school.', 'https://www.101soundboards.com/sounds/59857-Thank-you.', 'https://www.101soundboards.com/sounds/59858-Thank-you.', \"https://www.101soundboards.com/sounds/59819-That's-really-nice-of-you.\", \"https://www.101soundboards.com/sounds/59798-The-car's-name-was-kit.-Nobody-rode-Michael-knight.\", \"https://www.101soundboards.com/sounds/59806-There's-a-larger-lesson-to-be-learned-here.\", \"https://www.101soundboards.com/sounds/59815-There's-a-lot-more-where-that-came-from,-too.\", \"https://www.101soundboards.com/sounds/59778-There's-flies-in-my-ice-cream.\", 'https://www.101soundboards.com/sounds/59765-They-take-their-balls-and-they-dip-them-in-cocaine-and-wipe-them-all-over-each-other.', \"https://www.101soundboards.com/sounds/59751-They're-going-to-put-the-intergalactic-equivalent-of-a-jumper-cables-under-your-nuts-and-or-labia-and-hook-them-up-to-an-alien-car-battery-until-you-tell-them-where-I-am,-which-I-guarantee-you-you'...\", \"https://www.101soundboards.com/sounds/59828-This-isn't-a-musical-number.-This-is-a-fucking-operation.-We-gotta-be-cool-and-fucking-lay-low.\", \"https://www.101soundboards.com/sounds/59844-This-isn't-going-to-shake-out-like-you-think,-pal.\", \"https://www.101soundboards.com/sounds/59850-Trust-me-Morty,-I've-heard-stories-from-other-Ricks.\", 'https://www.101soundboards.com/sounds/59864-Unity.', 'https://www.101soundboards.com/sounds/59790-Wait,-wait,-wait.-Come-on.-Hold.-Hold-on-a-second.-Hold-on.', \"https://www.101soundboards.com/sounds/59744-We-can-flip-those-sons-of-bitches-for-230-bucks-apiece,-easy.-They're-all-limited-edition-Zelda-ones.\", 'https://www.101soundboards.com/sounds/59793-We-can-go-get-some-ice-cream,-motherfucker.', 'https://www.101soundboards.com/sounds/59868-Wellbeloved-dub-dub.', 'https://www.101soundboards.com/sounds/59856-What-did-I-tell-you?', 'https://www.101soundboards.com/sounds/59780-What-do-you-know-about-friendship,-Jerry?', 'https://www.101soundboards.com/sounds/59833-What-the-hell-is-your-problem?', 'https://www.101soundboards.com/sounds/59870-What?', 'https://www.101soundboards.com/sounds/59871-What?', 'https://www.101soundboards.com/sounds/59835-Whatever-you-want-to-do,-you-little-punk-ass-little-bitch.', 'https://www.101soundboards.com/sounds/59812-Where-do-you-wanna-meet?', 'https://www.101soundboards.com/sounds/59855-Who-am-I-talking-to?', 'https://www.101soundboards.com/sounds/59800-Who-knew?', 'https://www.101soundboards.com/sounds/59866-Who-the-fuck-are-you?', 'https://www.101soundboards.com/sounds/59865-Why-in-the-fuck-would-I-ever-do-that?-Ever.', 'https://www.101soundboards.com/sounds/59873-Why-not?', 'https://www.101soundboards.com/sounds/59801-Why-was-Knight-Rider-called-Knight-Rider?', 'https://www.101soundboards.com/sounds/59813-With-Michael-knight.', 'https://www.101soundboards.com/sounds/59860-Would-it-be-possible-for-us-to-get-some-kind-of-tour-of-your-mini-verse-from-the-inside?', 'https://www.101soundboards.com/sounds/59867-Yeah,-what-the-hell.', 'https://www.101soundboards.com/sounds/59809-Yeah,-yeah,-yeah.-Fuck-you-for-shooting-my-liver.', 'https://www.101soundboards.com/sounds/59879-Yeah,-yeah.', 'https://www.101soundboards.com/sounds/59878-Yeah.', 'https://www.101soundboards.com/sounds/59880-Yeah.', 'https://www.101soundboards.com/sounds/59881-Yeah.', 'https://www.101soundboards.com/sounds/59882-Yep.', 'https://www.101soundboards.com/sounds/59747-You-are-right.', \"https://www.101soundboards.com/sounds/59749-You-don't-want-to-know-how-many-answers-that-question-has.\", 'https://www.101soundboards.com/sounds/59869-You-ever-hear-about-Wall-Street,-Morty?', 'https://www.101soundboards.com/sounds/59758-You-fucking-cocksucker.', 'https://www.101soundboards.com/sounds/59840-You-know-what-those-guys-do-in-the-in-their-fancy-boardrooms.', \"https://www.101soundboards.com/sounds/59843-You-know,-Grandpa-goes-around-and-he-does-his-business-in-public-because-Grandpa-isn't-shady.\", \"https://www.101soundboards.com/sounds/59791-You-might-as-well-ask-a-horse-to-fix-a-merry-go-round.-I-mean,-he'll-try-his-best,-but-mostly-he's-just-gonna-get-horrified.\", \"https://www.101soundboards.com/sounds/59760-You-really-are-your-father's-children.\", \"https://www.101soundboards.com/sounds/59810-You're-acting-like-a-freaking-lunatic.\", \"https://www.101soundboards.com/sounds/59829-You're-both-pieces-of-shit.\", \"https://www.101soundboards.com/sounds/59834-You're-gonna-pull-that-move.\", \"https://www.101soundboards.com/sounds/59797-You're-the-man-of-the-house-and-you-don't-have-a-job.\", 'https://www.101soundboards.com/sounds/59851-Your-microverse-sucks-and-your-mini-versus-the-size-of-a-fucking-lobster-tank.', 'https://www.101soundboards.com/sounds/59742-3924.', 'https://www.101soundboards.com/sounds/59743-3924917.', 'https://www.101soundboards.com/sounds/59746-5126.']\n"
          ]
        }
      ]
    },
    {
      "cell_type": "code",
      "source": [
        "# 1.3 Download files from websites\n",
        "\n",
        "import os\n",
        "import re\n",
        "import json\n",
        "import httpx\n",
        "from bs4 import BeautifulSoup\n",
        "\n",
        "async def download_mp3s(links):\n",
        "    async with httpx.AsyncClient() as client:\n",
        "        # Create the wavs folder if it doesn't exist\n",
        "        if not os.path.exists(\"wavs\"):\n",
        "            os.makedirs(\"wavs\")\n",
        "\n",
        "        # Find the number of existing files in the wavs folder\n",
        "        existing_files_count = len(os.listdir(\"wavs\"))\n",
        "\n",
        "        # Download the MP3 files using the extracted links\n",
        "        for i, url in enumerate(links):\n",
        "            response = await client.get(url)\n",
        "            soup = BeautifulSoup(response.text, \"html.parser\")\n",
        "\n",
        "            # Check if there's a redirect\n",
        "            redirect_meta = soup.find(\"meta\", attrs={\"http-equiv\": \"refresh\"})\n",
        "            if redirect_meta:\n",
        "                content = redirect_meta[\"content\"]\n",
        "                target_url = re.search(\"url='(.*?)'\", content).group(1)\n",
        "                response = await client.get(target_url)\n",
        "                soup = BeautifulSoup(response.text, \"html.parser\")\n",
        "\n",
        "            preload_script = soup.find(\"script\", string=re.compile(\"sound_data_preload\"))\n",
        "\n",
        "            if not preload_script:\n",
        "                print(f\"Failed to find preload_script for URL: {url}\")\n",
        "                print(response.text)\n",
        "                continue\n",
        "\n",
        "            preload_text = re.search(\"sound_data_preload = ({.*?});\", preload_script.string).group(1)\n",
        "            preload_json = json.loads(preload_text)\n",
        "            download_url = \"https://www.101soundboards.com\" + preload_json[\"sound_file_url\"]\n",
        "            file_name = f\"{existing_files_count+i+1}.mp3\"\n",
        "\n",
        "            # Save the file in the wavs folder\n",
        "            file_path = os.path.join(\"wavs\", file_name)\n",
        "\n",
        "            mp3_data = (await client.get(download_url)).content\n",
        "            with open(file_path, \"wb\") as f:\n",
        "                f.write(mp3_data)\n",
        "                # print(f\"Downloaded {file_path}\")\n",
        "\n",
        "# Pass the extracted links to the download_mp3s function\n",
        "await download_mp3s(links)"
      ],
      "metadata": {
        "id": "3_3hEdWo-EKG",
        "colab": {
          "base_uri": "https://localhost:8080/",
          "height": 447
        },
        "outputId": "25156e87-fa31-49e1-8467-3ec67ee5f0ba"
      },
      "execution_count": null,
      "outputs": [
        {
          "output_type": "error",
          "ename": "CancelledError",
          "evalue": "ignored",
          "traceback": [
            "\u001b[0;31m---------------------------------------------------------------------------\u001b[0m",
            "\u001b[0;31mSSLWantReadError\u001b[0m                          Traceback (most recent call last)",
            "\u001b[0;32m/usr/local/lib/python3.9/dist-packages/anyio/streams/tls.py\u001b[0m in \u001b[0;36m_call_sslobject_method\u001b[0;34m(self, func, *args)\u001b[0m\n\u001b[1;32m    129\u001b[0m             \u001b[0;32mtry\u001b[0m\u001b[0;34m:\u001b[0m\u001b[0;34m\u001b[0m\u001b[0;34m\u001b[0m\u001b[0m\n\u001b[0;32m--> 130\u001b[0;31m                 \u001b[0mresult\u001b[0m \u001b[0;34m=\u001b[0m \u001b[0mfunc\u001b[0m\u001b[0;34m(\u001b[0m\u001b[0;34m*\u001b[0m\u001b[0margs\u001b[0m\u001b[0;34m)\u001b[0m\u001b[0;34m\u001b[0m\u001b[0;34m\u001b[0m\u001b[0m\n\u001b[0m\u001b[1;32m    131\u001b[0m             \u001b[0;32mexcept\u001b[0m \u001b[0mssl\u001b[0m\u001b[0;34m.\u001b[0m\u001b[0mSSLWantReadError\u001b[0m\u001b[0;34m:\u001b[0m\u001b[0;34m\u001b[0m\u001b[0;34m\u001b[0m\u001b[0m\n",
            "\u001b[0;32m/usr/lib/python3.9/ssl.py\u001b[0m in \u001b[0;36mread\u001b[0;34m(self, len, buffer)\u001b[0m\n\u001b[1;32m    888\u001b[0m         \u001b[0;32melse\u001b[0m\u001b[0;34m:\u001b[0m\u001b[0;34m\u001b[0m\u001b[0;34m\u001b[0m\u001b[0m\n\u001b[0;32m--> 889\u001b[0;31m             \u001b[0mv\u001b[0m \u001b[0;34m=\u001b[0m \u001b[0mself\u001b[0m\u001b[0;34m.\u001b[0m\u001b[0m_sslobj\u001b[0m\u001b[0;34m.\u001b[0m\u001b[0mread\u001b[0m\u001b[0;34m(\u001b[0m\u001b[0mlen\u001b[0m\u001b[0;34m)\u001b[0m\u001b[0;34m\u001b[0m\u001b[0;34m\u001b[0m\u001b[0m\n\u001b[0m\u001b[1;32m    890\u001b[0m         \u001b[0;32mreturn\u001b[0m \u001b[0mv\u001b[0m\u001b[0;34m\u001b[0m\u001b[0;34m\u001b[0m\u001b[0m\n",
            "\u001b[0;31mSSLWantReadError\u001b[0m: The operation did not complete (read) (_ssl.c:2633)",
            "\nDuring handling of the above exception, another exception occurred:\n",
            "\u001b[0;31mCancelledError\u001b[0m                            Traceback (most recent call last)",
            "\u001b[0;32m<ipython-input-5-b1ece6dcda7a>\u001b[0m in \u001b[0;36m<cell line: 52>\u001b[0;34m()\u001b[0m\n\u001b[1;32m     50\u001b[0m \u001b[0;34m\u001b[0m\u001b[0m\n\u001b[1;32m     51\u001b[0m \u001b[0;31m# Pass the extracted links to the download_mp3s function\u001b[0m\u001b[0;34m\u001b[0m\u001b[0;34m\u001b[0m\u001b[0m\n\u001b[0;32m---> 52\u001b[0;31m \u001b[0;32mawait\u001b[0m \u001b[0mdownload_mp3s\u001b[0m\u001b[0;34m(\u001b[0m\u001b[0mlinks\u001b[0m\u001b[0;34m)\u001b[0m\u001b[0;34m\u001b[0m\u001b[0;34m\u001b[0m\u001b[0m\n\u001b[0m",
            "\u001b[0;32m<ipython-input-5-b1ece6dcda7a>\u001b[0m in \u001b[0;36mdownload_mp3s\u001b[0;34m(links)\u001b[0m\n\u001b[1;32m     44\u001b[0m             \u001b[0mfile_path\u001b[0m \u001b[0;34m=\u001b[0m \u001b[0mos\u001b[0m\u001b[0;34m.\u001b[0m\u001b[0mpath\u001b[0m\u001b[0;34m.\u001b[0m\u001b[0mjoin\u001b[0m\u001b[0;34m(\u001b[0m\u001b[0;34m\"wavs\"\u001b[0m\u001b[0;34m,\u001b[0m \u001b[0mfile_name\u001b[0m\u001b[0;34m)\u001b[0m\u001b[0;34m\u001b[0m\u001b[0;34m\u001b[0m\u001b[0m\n\u001b[1;32m     45\u001b[0m \u001b[0;34m\u001b[0m\u001b[0m\n\u001b[0;32m---> 46\u001b[0;31m             \u001b[0mmp3_data\u001b[0m \u001b[0;34m=\u001b[0m \u001b[0;34m(\u001b[0m\u001b[0;32mawait\u001b[0m \u001b[0mclient\u001b[0m\u001b[0;34m.\u001b[0m\u001b[0mget\u001b[0m\u001b[0;34m(\u001b[0m\u001b[0mdownload_url\u001b[0m\u001b[0;34m)\u001b[0m\u001b[0;34m)\u001b[0m\u001b[0;34m.\u001b[0m\u001b[0mcontent\u001b[0m\u001b[0;34m\u001b[0m\u001b[0;34m\u001b[0m\u001b[0m\n\u001b[0m\u001b[1;32m     47\u001b[0m             \u001b[0;32mwith\u001b[0m \u001b[0mopen\u001b[0m\u001b[0;34m(\u001b[0m\u001b[0mfile_path\u001b[0m\u001b[0;34m,\u001b[0m \u001b[0;34m\"wb\"\u001b[0m\u001b[0;34m)\u001b[0m \u001b[0;32mas\u001b[0m \u001b[0mf\u001b[0m\u001b[0;34m:\u001b[0m\u001b[0;34m\u001b[0m\u001b[0;34m\u001b[0m\u001b[0m\n\u001b[1;32m     48\u001b[0m                 \u001b[0mf\u001b[0m\u001b[0;34m.\u001b[0m\u001b[0mwrite\u001b[0m\u001b[0;34m(\u001b[0m\u001b[0mmp3_data\u001b[0m\u001b[0;34m)\u001b[0m\u001b[0;34m\u001b[0m\u001b[0;34m\u001b[0m\u001b[0m\n",
            "\u001b[0;32m/usr/local/lib/python3.9/dist-packages/httpx/_client.py\u001b[0m in \u001b[0;36mget\u001b[0;34m(self, url, params, headers, cookies, auth, follow_redirects, timeout, extensions)\u001b[0m\n\u001b[1;32m   1755\u001b[0m         \u001b[0;34m**\u001b[0m\u001b[0mParameters\u001b[0m\u001b[0;34m**\u001b[0m\u001b[0;34m:\u001b[0m \u001b[0mSee\u001b[0m\u001b[0;31m \u001b[0m\u001b[0;31m`\u001b[0m\u001b[0mhttpx\u001b[0m\u001b[0;34m.\u001b[0m\u001b[0mrequest\u001b[0m\u001b[0;31m`\u001b[0m\u001b[0;34m.\u001b[0m\u001b[0;34m\u001b[0m\u001b[0;34m\u001b[0m\u001b[0m\n\u001b[1;32m   1756\u001b[0m         \"\"\"\n\u001b[0;32m-> 1757\u001b[0;31m         return await self.request(\n\u001b[0m\u001b[1;32m   1758\u001b[0m             \u001b[0;34m\"GET\"\u001b[0m\u001b[0;34m,\u001b[0m\u001b[0;34m\u001b[0m\u001b[0;34m\u001b[0m\u001b[0m\n\u001b[1;32m   1759\u001b[0m             \u001b[0murl\u001b[0m\u001b[0;34m,\u001b[0m\u001b[0;34m\u001b[0m\u001b[0;34m\u001b[0m\u001b[0m\n",
            "\u001b[0;32m/usr/local/lib/python3.9/dist-packages/httpx/_client.py\u001b[0m in \u001b[0;36mrequest\u001b[0;34m(self, method, url, content, data, files, json, params, headers, cookies, auth, follow_redirects, timeout, extensions)\u001b[0m\n\u001b[1;32m   1531\u001b[0m             \u001b[0mextensions\u001b[0m\u001b[0;34m=\u001b[0m\u001b[0mextensions\u001b[0m\u001b[0;34m,\u001b[0m\u001b[0;34m\u001b[0m\u001b[0;34m\u001b[0m\u001b[0m\n\u001b[1;32m   1532\u001b[0m         )\n\u001b[0;32m-> 1533\u001b[0;31m         \u001b[0;32mreturn\u001b[0m \u001b[0;32mawait\u001b[0m \u001b[0mself\u001b[0m\u001b[0;34m.\u001b[0m\u001b[0msend\u001b[0m\u001b[0;34m(\u001b[0m\u001b[0mrequest\u001b[0m\u001b[0;34m,\u001b[0m \u001b[0mauth\u001b[0m\u001b[0;34m=\u001b[0m\u001b[0mauth\u001b[0m\u001b[0;34m,\u001b[0m \u001b[0mfollow_redirects\u001b[0m\u001b[0;34m=\u001b[0m\u001b[0mfollow_redirects\u001b[0m\u001b[0;34m)\u001b[0m\u001b[0;34m\u001b[0m\u001b[0;34m\u001b[0m\u001b[0m\n\u001b[0m\u001b[1;32m   1534\u001b[0m \u001b[0;34m\u001b[0m\u001b[0m\n\u001b[1;32m   1535\u001b[0m     \u001b[0;34m@\u001b[0m\u001b[0masynccontextmanager\u001b[0m\u001b[0;34m\u001b[0m\u001b[0;34m\u001b[0m\u001b[0m\n",
            "\u001b[0;32m/usr/local/lib/python3.9/dist-packages/httpx/_client.py\u001b[0m in \u001b[0;36msend\u001b[0;34m(self, request, stream, auth, follow_redirects)\u001b[0m\n\u001b[1;32m   1618\u001b[0m         \u001b[0mauth\u001b[0m \u001b[0;34m=\u001b[0m \u001b[0mself\u001b[0m\u001b[0;34m.\u001b[0m\u001b[0m_build_request_auth\u001b[0m\u001b[0;34m(\u001b[0m\u001b[0mrequest\u001b[0m\u001b[0;34m,\u001b[0m \u001b[0mauth\u001b[0m\u001b[0;34m)\u001b[0m\u001b[0;34m\u001b[0m\u001b[0;34m\u001b[0m\u001b[0m\n\u001b[1;32m   1619\u001b[0m \u001b[0;34m\u001b[0m\u001b[0m\n\u001b[0;32m-> 1620\u001b[0;31m         response = await self._send_handling_auth(\n\u001b[0m\u001b[1;32m   1621\u001b[0m             \u001b[0mrequest\u001b[0m\u001b[0;34m,\u001b[0m\u001b[0;34m\u001b[0m\u001b[0;34m\u001b[0m\u001b[0m\n\u001b[1;32m   1622\u001b[0m             \u001b[0mauth\u001b[0m\u001b[0;34m=\u001b[0m\u001b[0mauth\u001b[0m\u001b[0;34m,\u001b[0m\u001b[0;34m\u001b[0m\u001b[0;34m\u001b[0m\u001b[0m\n",
            "\u001b[0;32m/usr/local/lib/python3.9/dist-packages/httpx/_client.py\u001b[0m in \u001b[0;36m_send_handling_auth\u001b[0;34m(self, request, auth, follow_redirects, history)\u001b[0m\n\u001b[1;32m   1646\u001b[0m \u001b[0;34m\u001b[0m\u001b[0m\n\u001b[1;32m   1647\u001b[0m             \u001b[0;32mwhile\u001b[0m \u001b[0;32mTrue\u001b[0m\u001b[0;34m:\u001b[0m\u001b[0;34m\u001b[0m\u001b[0;34m\u001b[0m\u001b[0m\n\u001b[0;32m-> 1648\u001b[0;31m                 response = await self._send_handling_redirects(\n\u001b[0m\u001b[1;32m   1649\u001b[0m                     \u001b[0mrequest\u001b[0m\u001b[0;34m,\u001b[0m\u001b[0;34m\u001b[0m\u001b[0;34m\u001b[0m\u001b[0m\n\u001b[1;32m   1650\u001b[0m                     \u001b[0mfollow_redirects\u001b[0m\u001b[0;34m=\u001b[0m\u001b[0mfollow_redirects\u001b[0m\u001b[0;34m,\u001b[0m\u001b[0;34m\u001b[0m\u001b[0;34m\u001b[0m\u001b[0m\n",
            "\u001b[0;32m/usr/local/lib/python3.9/dist-packages/httpx/_client.py\u001b[0m in \u001b[0;36m_send_handling_redirects\u001b[0;34m(self, request, follow_redirects, history)\u001b[0m\n\u001b[1;32m   1683\u001b[0m                 \u001b[0;32mawait\u001b[0m \u001b[0mhook\u001b[0m\u001b[0;34m(\u001b[0m\u001b[0mrequest\u001b[0m\u001b[0;34m)\u001b[0m\u001b[0;34m\u001b[0m\u001b[0;34m\u001b[0m\u001b[0m\n\u001b[1;32m   1684\u001b[0m \u001b[0;34m\u001b[0m\u001b[0m\n\u001b[0;32m-> 1685\u001b[0;31m             \u001b[0mresponse\u001b[0m \u001b[0;34m=\u001b[0m \u001b[0;32mawait\u001b[0m \u001b[0mself\u001b[0m\u001b[0;34m.\u001b[0m\u001b[0m_send_single_request\u001b[0m\u001b[0;34m(\u001b[0m\u001b[0mrequest\u001b[0m\u001b[0;34m)\u001b[0m\u001b[0;34m\u001b[0m\u001b[0;34m\u001b[0m\u001b[0m\n\u001b[0m\u001b[1;32m   1686\u001b[0m             \u001b[0;32mtry\u001b[0m\u001b[0;34m:\u001b[0m\u001b[0;34m\u001b[0m\u001b[0;34m\u001b[0m\u001b[0m\n\u001b[1;32m   1687\u001b[0m                 \u001b[0;32mfor\u001b[0m \u001b[0mhook\u001b[0m \u001b[0;32min\u001b[0m \u001b[0mself\u001b[0m\u001b[0;34m.\u001b[0m\u001b[0m_event_hooks\u001b[0m\u001b[0;34m[\u001b[0m\u001b[0;34m\"response\"\u001b[0m\u001b[0;34m]\u001b[0m\u001b[0;34m:\u001b[0m\u001b[0;34m\u001b[0m\u001b[0;34m\u001b[0m\u001b[0m\n",
            "\u001b[0;32m/usr/local/lib/python3.9/dist-packages/httpx/_client.py\u001b[0m in \u001b[0;36m_send_single_request\u001b[0;34m(self, request)\u001b[0m\n\u001b[1;32m   1720\u001b[0m \u001b[0;34m\u001b[0m\u001b[0m\n\u001b[1;32m   1721\u001b[0m         \u001b[0;32mwith\u001b[0m \u001b[0mrequest_context\u001b[0m\u001b[0;34m(\u001b[0m\u001b[0mrequest\u001b[0m\u001b[0;34m=\u001b[0m\u001b[0mrequest\u001b[0m\u001b[0;34m)\u001b[0m\u001b[0;34m:\u001b[0m\u001b[0;34m\u001b[0m\u001b[0;34m\u001b[0m\u001b[0m\n\u001b[0;32m-> 1722\u001b[0;31m             \u001b[0mresponse\u001b[0m \u001b[0;34m=\u001b[0m \u001b[0;32mawait\u001b[0m \u001b[0mtransport\u001b[0m\u001b[0;34m.\u001b[0m\u001b[0mhandle_async_request\u001b[0m\u001b[0;34m(\u001b[0m\u001b[0mrequest\u001b[0m\u001b[0;34m)\u001b[0m\u001b[0;34m\u001b[0m\u001b[0;34m\u001b[0m\u001b[0m\n\u001b[0m\u001b[1;32m   1723\u001b[0m \u001b[0;34m\u001b[0m\u001b[0m\n\u001b[1;32m   1724\u001b[0m         \u001b[0;32massert\u001b[0m \u001b[0misinstance\u001b[0m\u001b[0;34m(\u001b[0m\u001b[0mresponse\u001b[0m\u001b[0;34m.\u001b[0m\u001b[0mstream\u001b[0m\u001b[0;34m,\u001b[0m \u001b[0mAsyncByteStream\u001b[0m\u001b[0;34m)\u001b[0m\u001b[0;34m\u001b[0m\u001b[0;34m\u001b[0m\u001b[0m\n",
            "\u001b[0;32m/usr/local/lib/python3.9/dist-packages/httpx/_transports/default.py\u001b[0m in \u001b[0;36mhandle_async_request\u001b[0;34m(self, request)\u001b[0m\n\u001b[1;32m    351\u001b[0m         )\n\u001b[1;32m    352\u001b[0m         \u001b[0;32mwith\u001b[0m \u001b[0mmap_httpcore_exceptions\u001b[0m\u001b[0;34m(\u001b[0m\u001b[0;34m)\u001b[0m\u001b[0;34m:\u001b[0m\u001b[0;34m\u001b[0m\u001b[0;34m\u001b[0m\u001b[0m\n\u001b[0;32m--> 353\u001b[0;31m             \u001b[0mresp\u001b[0m \u001b[0;34m=\u001b[0m \u001b[0;32mawait\u001b[0m \u001b[0mself\u001b[0m\u001b[0;34m.\u001b[0m\u001b[0m_pool\u001b[0m\u001b[0;34m.\u001b[0m\u001b[0mhandle_async_request\u001b[0m\u001b[0;34m(\u001b[0m\u001b[0mreq\u001b[0m\u001b[0;34m)\u001b[0m\u001b[0;34m\u001b[0m\u001b[0;34m\u001b[0m\u001b[0m\n\u001b[0m\u001b[1;32m    354\u001b[0m \u001b[0;34m\u001b[0m\u001b[0m\n\u001b[1;32m    355\u001b[0m         \u001b[0;32massert\u001b[0m \u001b[0misinstance\u001b[0m\u001b[0;34m(\u001b[0m\u001b[0mresp\u001b[0m\u001b[0;34m.\u001b[0m\u001b[0mstream\u001b[0m\u001b[0;34m,\u001b[0m \u001b[0mtyping\u001b[0m\u001b[0;34m.\u001b[0m\u001b[0mAsyncIterable\u001b[0m\u001b[0;34m)\u001b[0m\u001b[0;34m\u001b[0m\u001b[0;34m\u001b[0m\u001b[0m\n",
            "\u001b[0;32m/usr/local/lib/python3.9/dist-packages/httpcore/_async/connection_pool.py\u001b[0m in \u001b[0;36mhandle_async_request\u001b[0;34m(self, request)\u001b[0m\n\u001b[1;32m    251\u001b[0m             \u001b[0;32mexcept\u001b[0m \u001b[0mBaseException\u001b[0m \u001b[0;32mas\u001b[0m \u001b[0mexc\u001b[0m\u001b[0;34m:\u001b[0m\u001b[0;34m\u001b[0m\u001b[0;34m\u001b[0m\u001b[0m\n\u001b[1;32m    252\u001b[0m                 \u001b[0;32mawait\u001b[0m \u001b[0mself\u001b[0m\u001b[0;34m.\u001b[0m\u001b[0mresponse_closed\u001b[0m\u001b[0;34m(\u001b[0m\u001b[0mstatus\u001b[0m\u001b[0;34m)\u001b[0m\u001b[0;34m\u001b[0m\u001b[0;34m\u001b[0m\u001b[0m\n\u001b[0;32m--> 253\u001b[0;31m                 \u001b[0;32mraise\u001b[0m \u001b[0mexc\u001b[0m\u001b[0;34m\u001b[0m\u001b[0;34m\u001b[0m\u001b[0m\n\u001b[0m\u001b[1;32m    254\u001b[0m             \u001b[0;32melse\u001b[0m\u001b[0;34m:\u001b[0m\u001b[0;34m\u001b[0m\u001b[0;34m\u001b[0m\u001b[0m\n\u001b[1;32m    255\u001b[0m                 \u001b[0;32mbreak\u001b[0m\u001b[0;34m\u001b[0m\u001b[0;34m\u001b[0m\u001b[0m\n",
            "\u001b[0;32m/usr/local/lib/python3.9/dist-packages/httpcore/_async/connection_pool.py\u001b[0m in \u001b[0;36mhandle_async_request\u001b[0;34m(self, request)\u001b[0m\n\u001b[1;32m    235\u001b[0m \u001b[0;34m\u001b[0m\u001b[0m\n\u001b[1;32m    236\u001b[0m             \u001b[0;32mtry\u001b[0m\u001b[0;34m:\u001b[0m\u001b[0;34m\u001b[0m\u001b[0;34m\u001b[0m\u001b[0m\n\u001b[0;32m--> 237\u001b[0;31m                 \u001b[0mresponse\u001b[0m \u001b[0;34m=\u001b[0m \u001b[0;32mawait\u001b[0m \u001b[0mconnection\u001b[0m\u001b[0;34m.\u001b[0m\u001b[0mhandle_async_request\u001b[0m\u001b[0;34m(\u001b[0m\u001b[0mrequest\u001b[0m\u001b[0;34m)\u001b[0m\u001b[0;34m\u001b[0m\u001b[0;34m\u001b[0m\u001b[0m\n\u001b[0m\u001b[1;32m    238\u001b[0m             \u001b[0;32mexcept\u001b[0m \u001b[0mConnectionNotAvailable\u001b[0m\u001b[0;34m:\u001b[0m\u001b[0;34m\u001b[0m\u001b[0;34m\u001b[0m\u001b[0m\n\u001b[1;32m    239\u001b[0m                 \u001b[0;31m# The ConnectionNotAvailable exception is a special case, that\u001b[0m\u001b[0;34m\u001b[0m\u001b[0;34m\u001b[0m\u001b[0m\n",
            "\u001b[0;32m/usr/local/lib/python3.9/dist-packages/httpcore/_async/connection.py\u001b[0m in \u001b[0;36mhandle_async_request\u001b[0;34m(self, request)\u001b[0m\n\u001b[1;32m     88\u001b[0m                 \u001b[0;32mraise\u001b[0m \u001b[0mConnectionNotAvailable\u001b[0m\u001b[0;34m(\u001b[0m\u001b[0;34m)\u001b[0m\u001b[0;34m\u001b[0m\u001b[0;34m\u001b[0m\u001b[0m\n\u001b[1;32m     89\u001b[0m \u001b[0;34m\u001b[0m\u001b[0m\n\u001b[0;32m---> 90\u001b[0;31m         \u001b[0;32mreturn\u001b[0m \u001b[0;32mawait\u001b[0m \u001b[0mself\u001b[0m\u001b[0;34m.\u001b[0m\u001b[0m_connection\u001b[0m\u001b[0;34m.\u001b[0m\u001b[0mhandle_async_request\u001b[0m\u001b[0;34m(\u001b[0m\u001b[0mrequest\u001b[0m\u001b[0;34m)\u001b[0m\u001b[0;34m\u001b[0m\u001b[0;34m\u001b[0m\u001b[0m\n\u001b[0m\u001b[1;32m     91\u001b[0m \u001b[0;34m\u001b[0m\u001b[0m\n\u001b[1;32m     92\u001b[0m     \u001b[0;32masync\u001b[0m \u001b[0;32mdef\u001b[0m \u001b[0m_connect\u001b[0m\u001b[0;34m(\u001b[0m\u001b[0mself\u001b[0m\u001b[0;34m,\u001b[0m \u001b[0mrequest\u001b[0m\u001b[0;34m:\u001b[0m \u001b[0mRequest\u001b[0m\u001b[0;34m)\u001b[0m \u001b[0;34m->\u001b[0m \u001b[0mAsyncNetworkStream\u001b[0m\u001b[0;34m:\u001b[0m\u001b[0;34m\u001b[0m\u001b[0;34m\u001b[0m\u001b[0m\n",
            "\u001b[0;32m/usr/local/lib/python3.9/dist-packages/httpcore/_async/http11.py\u001b[0m in \u001b[0;36mhandle_async_request\u001b[0;34m(self, request)\u001b[0m\n\u001b[1;32m    110\u001b[0m             \u001b[0;32masync\u001b[0m \u001b[0;32mwith\u001b[0m \u001b[0mTrace\u001b[0m\u001b[0;34m(\u001b[0m\u001b[0;34m\"http11.response_closed\"\u001b[0m\u001b[0;34m,\u001b[0m \u001b[0mrequest\u001b[0m\u001b[0;34m)\u001b[0m \u001b[0;32mas\u001b[0m \u001b[0mtrace\u001b[0m\u001b[0;34m:\u001b[0m\u001b[0;34m\u001b[0m\u001b[0;34m\u001b[0m\u001b[0m\n\u001b[1;32m    111\u001b[0m                 \u001b[0;32mawait\u001b[0m \u001b[0mself\u001b[0m\u001b[0;34m.\u001b[0m\u001b[0m_response_closed\u001b[0m\u001b[0;34m(\u001b[0m\u001b[0;34m)\u001b[0m\u001b[0;34m\u001b[0m\u001b[0;34m\u001b[0m\u001b[0m\n\u001b[0;32m--> 112\u001b[0;31m             \u001b[0;32mraise\u001b[0m \u001b[0mexc\u001b[0m\u001b[0;34m\u001b[0m\u001b[0;34m\u001b[0m\u001b[0m\n\u001b[0m\u001b[1;32m    113\u001b[0m \u001b[0;34m\u001b[0m\u001b[0m\n\u001b[1;32m    114\u001b[0m     \u001b[0;31m# Sending the request...\u001b[0m\u001b[0;34m\u001b[0m\u001b[0;34m\u001b[0m\u001b[0m\n",
            "\u001b[0;32m/usr/local/lib/python3.9/dist-packages/httpcore/_async/http11.py\u001b[0m in \u001b[0;36mhandle_async_request\u001b[0;34m(self, request)\u001b[0m\n\u001b[1;32m     89\u001b[0m                     \u001b[0mreason_phrase\u001b[0m\u001b[0;34m,\u001b[0m\u001b[0;34m\u001b[0m\u001b[0;34m\u001b[0m\u001b[0m\n\u001b[1;32m     90\u001b[0m                     \u001b[0mheaders\u001b[0m\u001b[0;34m,\u001b[0m\u001b[0;34m\u001b[0m\u001b[0;34m\u001b[0m\u001b[0m\n\u001b[0;32m---> 91\u001b[0;31m                 ) = await self._receive_response_headers(**kwargs)\n\u001b[0m\u001b[1;32m     92\u001b[0m                 trace.return_value = (\n\u001b[1;32m     93\u001b[0m                     \u001b[0mhttp_version\u001b[0m\u001b[0;34m,\u001b[0m\u001b[0;34m\u001b[0m\u001b[0;34m\u001b[0m\u001b[0m\n",
            "\u001b[0;32m/usr/local/lib/python3.9/dist-packages/httpcore/_async/http11.py\u001b[0m in \u001b[0;36m_receive_response_headers\u001b[0;34m(self, request)\u001b[0m\n\u001b[1;32m    153\u001b[0m \u001b[0;34m\u001b[0m\u001b[0m\n\u001b[1;32m    154\u001b[0m         \u001b[0;32mwhile\u001b[0m \u001b[0;32mTrue\u001b[0m\u001b[0;34m:\u001b[0m\u001b[0;34m\u001b[0m\u001b[0;34m\u001b[0m\u001b[0m\n\u001b[0;32m--> 155\u001b[0;31m             \u001b[0mevent\u001b[0m \u001b[0;34m=\u001b[0m \u001b[0;32mawait\u001b[0m \u001b[0mself\u001b[0m\u001b[0;34m.\u001b[0m\u001b[0m_receive_event\u001b[0m\u001b[0;34m(\u001b[0m\u001b[0mtimeout\u001b[0m\u001b[0;34m=\u001b[0m\u001b[0mtimeout\u001b[0m\u001b[0;34m)\u001b[0m\u001b[0;34m\u001b[0m\u001b[0;34m\u001b[0m\u001b[0m\n\u001b[0m\u001b[1;32m    156\u001b[0m             \u001b[0;32mif\u001b[0m \u001b[0misinstance\u001b[0m\u001b[0;34m(\u001b[0m\u001b[0mevent\u001b[0m\u001b[0;34m,\u001b[0m \u001b[0mh11\u001b[0m\u001b[0;34m.\u001b[0m\u001b[0mResponse\u001b[0m\u001b[0;34m)\u001b[0m\u001b[0;34m:\u001b[0m\u001b[0;34m\u001b[0m\u001b[0;34m\u001b[0m\u001b[0m\n\u001b[1;32m    157\u001b[0m                 \u001b[0;32mbreak\u001b[0m\u001b[0;34m\u001b[0m\u001b[0;34m\u001b[0m\u001b[0m\n",
            "\u001b[0;32m/usr/local/lib/python3.9/dist-packages/httpcore/_async/http11.py\u001b[0m in \u001b[0;36m_receive_event\u001b[0;34m(self, timeout)\u001b[0m\n\u001b[1;32m    189\u001b[0m \u001b[0;34m\u001b[0m\u001b[0m\n\u001b[1;32m    190\u001b[0m             \u001b[0;32mif\u001b[0m \u001b[0mevent\u001b[0m \u001b[0;32mis\u001b[0m \u001b[0mh11\u001b[0m\u001b[0;34m.\u001b[0m\u001b[0mNEED_DATA\u001b[0m\u001b[0;34m:\u001b[0m\u001b[0;34m\u001b[0m\u001b[0;34m\u001b[0m\u001b[0m\n\u001b[0;32m--> 191\u001b[0;31m                 data = await self._network_stream.read(\n\u001b[0m\u001b[1;32m    192\u001b[0m                     \u001b[0mself\u001b[0m\u001b[0;34m.\u001b[0m\u001b[0mREAD_NUM_BYTES\u001b[0m\u001b[0;34m,\u001b[0m \u001b[0mtimeout\u001b[0m\u001b[0;34m=\u001b[0m\u001b[0mtimeout\u001b[0m\u001b[0;34m\u001b[0m\u001b[0;34m\u001b[0m\u001b[0m\n\u001b[1;32m    193\u001b[0m                 )\n",
            "\u001b[0;32m/usr/local/lib/python3.9/dist-packages/httpcore/backends/asyncio.py\u001b[0m in \u001b[0;36mread\u001b[0;34m(self, max_bytes, timeout)\u001b[0m\n\u001b[1;32m     32\u001b[0m             \u001b[0;32mwith\u001b[0m \u001b[0manyio\u001b[0m\u001b[0;34m.\u001b[0m\u001b[0mfail_after\u001b[0m\u001b[0;34m(\u001b[0m\u001b[0mtimeout\u001b[0m\u001b[0;34m)\u001b[0m\u001b[0;34m:\u001b[0m\u001b[0;34m\u001b[0m\u001b[0;34m\u001b[0m\u001b[0m\n\u001b[1;32m     33\u001b[0m                 \u001b[0;32mtry\u001b[0m\u001b[0;34m:\u001b[0m\u001b[0;34m\u001b[0m\u001b[0;34m\u001b[0m\u001b[0m\n\u001b[0;32m---> 34\u001b[0;31m                     \u001b[0;32mreturn\u001b[0m \u001b[0;32mawait\u001b[0m \u001b[0mself\u001b[0m\u001b[0;34m.\u001b[0m\u001b[0m_stream\u001b[0m\u001b[0;34m.\u001b[0m\u001b[0mreceive\u001b[0m\u001b[0;34m(\u001b[0m\u001b[0mmax_bytes\u001b[0m\u001b[0;34m=\u001b[0m\u001b[0mmax_bytes\u001b[0m\u001b[0;34m)\u001b[0m\u001b[0;34m\u001b[0m\u001b[0;34m\u001b[0m\u001b[0m\n\u001b[0m\u001b[1;32m     35\u001b[0m                 \u001b[0;32mexcept\u001b[0m \u001b[0manyio\u001b[0m\u001b[0;34m.\u001b[0m\u001b[0mEndOfStream\u001b[0m\u001b[0;34m:\u001b[0m  \u001b[0;31m# pragma: nocover\u001b[0m\u001b[0;34m\u001b[0m\u001b[0;34m\u001b[0m\u001b[0m\n\u001b[1;32m     36\u001b[0m                     \u001b[0;32mreturn\u001b[0m \u001b[0;34mb\"\"\u001b[0m\u001b[0;34m\u001b[0m\u001b[0;34m\u001b[0m\u001b[0m\n",
            "\u001b[0;32m/usr/local/lib/python3.9/dist-packages/anyio/streams/tls.py\u001b[0m in \u001b[0;36mreceive\u001b[0;34m(self, max_bytes)\u001b[0m\n\u001b[1;32m    193\u001b[0m \u001b[0;34m\u001b[0m\u001b[0m\n\u001b[1;32m    194\u001b[0m     \u001b[0;32masync\u001b[0m \u001b[0;32mdef\u001b[0m \u001b[0mreceive\u001b[0m\u001b[0;34m(\u001b[0m\u001b[0mself\u001b[0m\u001b[0;34m,\u001b[0m \u001b[0mmax_bytes\u001b[0m\u001b[0;34m:\u001b[0m \u001b[0mint\u001b[0m \u001b[0;34m=\u001b[0m \u001b[0;36m65536\u001b[0m\u001b[0;34m)\u001b[0m \u001b[0;34m->\u001b[0m \u001b[0mbytes\u001b[0m\u001b[0;34m:\u001b[0m\u001b[0;34m\u001b[0m\u001b[0;34m\u001b[0m\u001b[0m\n\u001b[0;32m--> 195\u001b[0;31m         \u001b[0mdata\u001b[0m \u001b[0;34m=\u001b[0m \u001b[0;32mawait\u001b[0m \u001b[0mself\u001b[0m\u001b[0;34m.\u001b[0m\u001b[0m_call_sslobject_method\u001b[0m\u001b[0;34m(\u001b[0m\u001b[0mself\u001b[0m\u001b[0;34m.\u001b[0m\u001b[0m_ssl_object\u001b[0m\u001b[0;34m.\u001b[0m\u001b[0mread\u001b[0m\u001b[0;34m,\u001b[0m \u001b[0mmax_bytes\u001b[0m\u001b[0;34m)\u001b[0m\u001b[0;34m\u001b[0m\u001b[0;34m\u001b[0m\u001b[0m\n\u001b[0m\u001b[1;32m    196\u001b[0m         \u001b[0;32mif\u001b[0m \u001b[0;32mnot\u001b[0m \u001b[0mdata\u001b[0m\u001b[0;34m:\u001b[0m\u001b[0;34m\u001b[0m\u001b[0;34m\u001b[0m\u001b[0m\n\u001b[1;32m    197\u001b[0m             \u001b[0;32mraise\u001b[0m \u001b[0mEndOfStream\u001b[0m\u001b[0;34m\u001b[0m\u001b[0;34m\u001b[0m\u001b[0m\n",
            "\u001b[0;32m/usr/local/lib/python3.9/dist-packages/anyio/streams/tls.py\u001b[0m in \u001b[0;36m_call_sslobject_method\u001b[0;34m(self, func, *args)\u001b[0m\n\u001b[1;32m    135\u001b[0m                         \u001b[0;32mawait\u001b[0m \u001b[0mself\u001b[0m\u001b[0;34m.\u001b[0m\u001b[0mtransport_stream\u001b[0m\u001b[0;34m.\u001b[0m\u001b[0msend\u001b[0m\u001b[0;34m(\u001b[0m\u001b[0mself\u001b[0m\u001b[0;34m.\u001b[0m\u001b[0m_write_bio\u001b[0m\u001b[0;34m.\u001b[0m\u001b[0mread\u001b[0m\u001b[0;34m(\u001b[0m\u001b[0;34m)\u001b[0m\u001b[0;34m)\u001b[0m\u001b[0;34m\u001b[0m\u001b[0;34m\u001b[0m\u001b[0m\n\u001b[1;32m    136\u001b[0m \u001b[0;34m\u001b[0m\u001b[0m\n\u001b[0;32m--> 137\u001b[0;31m                     \u001b[0mdata\u001b[0m \u001b[0;34m=\u001b[0m \u001b[0;32mawait\u001b[0m \u001b[0mself\u001b[0m\u001b[0;34m.\u001b[0m\u001b[0mtransport_stream\u001b[0m\u001b[0;34m.\u001b[0m\u001b[0mreceive\u001b[0m\u001b[0;34m(\u001b[0m\u001b[0;34m)\u001b[0m\u001b[0;34m\u001b[0m\u001b[0;34m\u001b[0m\u001b[0m\n\u001b[0m\u001b[1;32m    138\u001b[0m                 \u001b[0;32mexcept\u001b[0m \u001b[0mEndOfStream\u001b[0m\u001b[0;34m:\u001b[0m\u001b[0;34m\u001b[0m\u001b[0;34m\u001b[0m\u001b[0m\n\u001b[1;32m    139\u001b[0m                     \u001b[0mself\u001b[0m\u001b[0;34m.\u001b[0m\u001b[0m_read_bio\u001b[0m\u001b[0;34m.\u001b[0m\u001b[0mwrite_eof\u001b[0m\u001b[0;34m(\u001b[0m\u001b[0;34m)\u001b[0m\u001b[0;34m\u001b[0m\u001b[0;34m\u001b[0m\u001b[0m\n",
            "\u001b[0;32m/usr/local/lib/python3.9/dist-packages/anyio/_backends/_asyncio.py\u001b[0m in \u001b[0;36mreceive\u001b[0;34m(self, max_bytes)\u001b[0m\n\u001b[1;32m   1263\u001b[0m             ):\n\u001b[1;32m   1264\u001b[0m                 \u001b[0mself\u001b[0m\u001b[0;34m.\u001b[0m\u001b[0m_transport\u001b[0m\u001b[0;34m.\u001b[0m\u001b[0mresume_reading\u001b[0m\u001b[0;34m(\u001b[0m\u001b[0;34m)\u001b[0m\u001b[0;34m\u001b[0m\u001b[0;34m\u001b[0m\u001b[0m\n\u001b[0;32m-> 1265\u001b[0;31m                 \u001b[0;32mawait\u001b[0m \u001b[0mself\u001b[0m\u001b[0;34m.\u001b[0m\u001b[0m_protocol\u001b[0m\u001b[0;34m.\u001b[0m\u001b[0mread_event\u001b[0m\u001b[0;34m.\u001b[0m\u001b[0mwait\u001b[0m\u001b[0;34m(\u001b[0m\u001b[0;34m)\u001b[0m\u001b[0;34m\u001b[0m\u001b[0;34m\u001b[0m\u001b[0m\n\u001b[0m\u001b[1;32m   1266\u001b[0m                 \u001b[0mself\u001b[0m\u001b[0;34m.\u001b[0m\u001b[0m_transport\u001b[0m\u001b[0;34m.\u001b[0m\u001b[0mpause_reading\u001b[0m\u001b[0;34m(\u001b[0m\u001b[0;34m)\u001b[0m\u001b[0;34m\u001b[0m\u001b[0;34m\u001b[0m\u001b[0m\n\u001b[1;32m   1267\u001b[0m \u001b[0;34m\u001b[0m\u001b[0m\n",
            "\u001b[0;32m/usr/lib/python3.9/asyncio/locks.py\u001b[0m in \u001b[0;36mwait\u001b[0;34m(self)\u001b[0m\n\u001b[1;32m    224\u001b[0m         \u001b[0mself\u001b[0m\u001b[0;34m.\u001b[0m\u001b[0m_waiters\u001b[0m\u001b[0;34m.\u001b[0m\u001b[0mappend\u001b[0m\u001b[0;34m(\u001b[0m\u001b[0mfut\u001b[0m\u001b[0;34m)\u001b[0m\u001b[0;34m\u001b[0m\u001b[0;34m\u001b[0m\u001b[0m\n\u001b[1;32m    225\u001b[0m         \u001b[0;32mtry\u001b[0m\u001b[0;34m:\u001b[0m\u001b[0;34m\u001b[0m\u001b[0;34m\u001b[0m\u001b[0m\n\u001b[0;32m--> 226\u001b[0;31m             \u001b[0;32mawait\u001b[0m \u001b[0mfut\u001b[0m\u001b[0;34m\u001b[0m\u001b[0;34m\u001b[0m\u001b[0m\n\u001b[0m\u001b[1;32m    227\u001b[0m             \u001b[0;32mreturn\u001b[0m \u001b[0;32mTrue\u001b[0m\u001b[0;34m\u001b[0m\u001b[0;34m\u001b[0m\u001b[0m\n\u001b[1;32m    228\u001b[0m         \u001b[0;32mfinally\u001b[0m\u001b[0;34m:\u001b[0m\u001b[0;34m\u001b[0m\u001b[0;34m\u001b[0m\u001b[0m\n",
            "\u001b[0;31mCancelledError\u001b[0m: "
          ]
        }
      ]
    },
    {
      "cell_type": "code",
      "source": [
        "# Sort and check i files are in folder\n",
        "\n",
        "import os\n",
        "\n",
        "folder_path = \"/content/wavs\" # replace with your folder path\n",
        "files = os.listdir(folder_path)\n",
        "\n",
        "def get_file_number(file_name):\n",
        "    # Extract the numeric part of the filename and return it as an integer\n",
        "    return int(''.join(filter(str.isdigit, file_name)))\n",
        "\n",
        "sorted_files = sorted(files, key=get_file_number)\n",
        "\n",
        "print(sorted_files)\n"
      ],
      "metadata": {
        "colab": {
          "base_uri": "https://localhost:8080/"
        },
        "id": "K4h3uKmTM51D",
        "outputId": "298ae44c-9a63-48c7-b71c-f53fe61cda34"
      },
      "execution_count": null,
      "outputs": [
        {
          "output_type": "stream",
          "name": "stdout",
          "text": [
            "['1.mp3', '2.mp3', '3.mp3', '4.mp3', '5.mp3', '6.mp3', '7.mp3', '8.mp3', '9.mp3', '10.mp3', '11.mp3', '12.mp3', '13.mp3', '14.mp3', '15.mp3', '16.mp3', '17.mp3', '18.mp3', '19.mp3', '20.mp3', '21.mp3', '22.mp3', '23.mp3', '24.mp3', '25.mp3', '26.mp3', '27.mp3', '28.mp3', '29.mp3', '30.mp3', '31.mp3', '32.mp3', '33.mp3', '34.mp3', '35.mp3', '36.mp3', '37.mp3', '38.mp3', '39.mp3', '40.mp3', '41.mp3', '42.mp3', '43.mp3', '44.mp3', '45.mp3']\n"
          ]
        }
      ]
    },
    {
      "cell_type": "code",
      "source": [
        "# Create transciption file based on links\n",
        "\n",
        "import requests\n",
        "import json\n",
        "import re\n",
        "\n",
        "urls = [\n",
        "    'https://www.101soundboards.com/boards/11050-rick-sanchez-sounds-rick-and-morty-season-1',\n",
        "    'https://www.101soundboards.com/boards/11051-rick-sanchez-sounds-rick-and-morty-season-2'\n",
        "]\n",
        "\n",
        "transcription = []\n",
        "file_number = 0\n",
        "for url in urls:\n",
        "    response = requests.get(url)\n",
        "    html = response.text\n",
        "    board_data_inline = re.search(r'var board_data_inline\\s*=\\s*({.*});', html).group(1)\n",
        "    board_data = json.loads(board_data_inline)\n",
        "\n",
        "    for s, sound in enumerate(board_data['sounds']):\n",
        "        transcript = sound['sound_transcript']\n",
        "        # Add missing punctuation at the end of the transcript if necessary\n",
        "        if transcript and transcript[-1] not in ['.', '?', '!']:\n",
        "            transcript += '.'\n",
        "        file_number += 1\n",
        "        filename = f\"wavs/{file_number}.wav\"\n",
        "        transcription.append(f\"{filename}| {transcript}\\n\")\n",
        "\n",
        "# Write transcriptions to file\n",
        "with open('transcription.txt', 'w') as f:\n",
        "    f.writelines(transcription)\n",
        "\n",
        "print(\"Transcription file has been created successfully!\")\n"
      ],
      "metadata": {
        "colab": {
          "base_uri": "https://localhost:8080/"
        },
        "id": "j6Hi8yMA3eMP",
        "outputId": "b9b7b38f-7fdc-4b83-f60e-20dd23202e4d"
      },
      "execution_count": null,
      "outputs": [
        {
          "output_type": "stream",
          "name": "stdout",
          "text": [
            "Transcription file has been created successfully!\n"
          ]
        }
      ]
    },
    {
      "cell_type": "code",
      "source": [
        "# Create transciption file based on links\n",
        "\n",
        "import requests\n",
        "import json\n",
        "import re\n",
        "\n",
        "urls = [\n",
        "    'https://www.101soundboards.com/boards/11050-rick-sanchez-sounds-rick-and-morty-season-1',\n",
        "    'https://www.101soundboards.com/boards/11051-rick-sanchez-sounds-rick-and-morty-season-2'\n",
        "]\n",
        "\n",
        "transcription = []\n",
        "file_number = 0\n",
        "for url in urls:\n",
        "    response = requests.get(url)\n",
        "    html = response.text\n",
        "    board_data_inline = re.search(r'var board_data_inline\\s*=\\s*({.*});', html).group(1)\n",
        "    board_data = json.loads(board_data_inline)\n",
        "\n",
        "    for s, sound in enumerate(board_data['sounds']):\n",
        "        transcript = sound['sound_transcript']\n",
        "        file_number += 1\n",
        "        filename = f\"wavs/{file_number}.wav\"\n",
        "        transcription.append(f\"{filename}| {transcript}\\n\")\n",
        "\n",
        "# Write transcriptions to file\n",
        "with open('transcription.txt', 'w') as f:\n",
        "    f.writelines(transcription)\n",
        "\n",
        "print(\"Transcription file has been created successfully!\")\n",
        "\n"
      ],
      "metadata": {
        "colab": {
          "base_uri": "https://localhost:8080/"
        },
        "id": "Dp69Byn-DR3g",
        "outputId": "976d63b2-b9d5-4ed8-8472-c500180590ac"
      },
      "execution_count": null,
      "outputs": [
        {
          "output_type": "stream",
          "name": "stdout",
          "text": [
            "Transcription file has been created successfully!\n"
          ]
        }
      ]
    },
    {
      "cell_type": "markdown",
      "source": [
        "## 2. Cleaning data\n",
        "\n",
        "\n",
        "\n"
      ],
      "metadata": {
        "id": "V2ViS5WSra7g"
      }
    },
    {
      "cell_type": "markdown",
      "source": [
        "This supports the Demucs source separation model (https://github.com/facebookresearch/demucs/) This is only for separation with pre-trained models, not training!\n",
        "\n",
        "You can either upload files manually (slow) or link your Google Drive account."
      ],
      "metadata": {
        "id": "TS6tRBZur1eT"
      }
    },
    {
      "cell_type": "code",
      "source": [
        "!python3 -m pip install -U git+https://github.com/facebookresearch/demucs#egg=demucs"
      ],
      "metadata": {
        "id": "jgI5536z0MYU"
      },
      "execution_count": null,
      "outputs": []
    },
    {
      "cell_type": "code",
      "source": [
        "# Customize the following options!\n",
        "model = \"htdemucs\"\n",
        "extensions = [\"mp3\", \"wav\", \"ogg\", \"flac\"]  # we will look for all those file types.\n",
        "two_stems = None   # only separate one stems from the rest, for instance\n",
        "# two_stems = \"vocals\"\n",
        "\n",
        "# Options for the output audio.\n",
        "mp3 = True\n",
        "mp3_rate = 320\n",
        "float32 = False  # output as float 32 wavs, unsused if 'mp3' is True.\n",
        "int24 = False    # output as int24 wavs, unused if 'mp3' is True.\n",
        "# You cannot set both `float32 = True` and `int24 = True` !!\n",
        "\n",
        "in_path = '/content/wavs'\n",
        "out_path = '/content/wavs_modified'"
      ],
      "metadata": {
        "id": "G3XHro6uzH3U"
      },
      "execution_count": null,
      "outputs": []
    },
    {
      "cell_type": "code",
      "source": [
        "#@title Useful functions, don't forget to execute\n",
        "import io\n",
        "from pathlib import Path\n",
        "import select\n",
        "from shutil import rmtree\n",
        "import subprocess as sp\n",
        "import sys\n",
        "from typing import Dict, Tuple, Optional, IO\n",
        "\n",
        "from google.colab import files\n",
        "\n",
        "def find_files(in_path):\n",
        "    out = []\n",
        "    for file in Path(in_path).iterdir():\n",
        "        if file.suffix.lower().lstrip(\".\") in extensions:\n",
        "            out.append(file)\n",
        "    return out\n",
        "\n",
        "def copy_process_streams(process: sp.Popen):\n",
        "    def raw(stream: Optional[IO[bytes]]) -> IO[bytes]:\n",
        "        assert stream is not None\n",
        "        if isinstance(stream, io.BufferedIOBase):\n",
        "            stream = stream.raw\n",
        "        return stream\n",
        "\n",
        "    p_stdout, p_stderr = raw(process.stdout), raw(process.stderr)\n",
        "    stream_by_fd: Dict[int, Tuple[IO[bytes], io.StringIO, IO[str]]] = {\n",
        "        p_stdout.fileno(): (p_stdout, sys.stdout),\n",
        "        p_stderr.fileno(): (p_stderr, sys.stderr),\n",
        "    }\n",
        "    fds = list(stream_by_fd.keys())\n",
        "\n",
        "    while fds:\n",
        "        # `select` syscall will wait until one of the file descriptors has content.\n",
        "        ready, _, _ = select.select(fds, [], [])\n",
        "        for fd in ready:\n",
        "            p_stream, std = stream_by_fd[fd]\n",
        "            raw_buf = p_stream.read(2 ** 16)\n",
        "            if not raw_buf:\n",
        "                fds.remove(fd)\n",
        "                continue\n",
        "            buf = raw_buf.decode()\n",
        "            std.write(buf)\n",
        "            std.flush()\n",
        "\n",
        "def separate(inp=None, outp=None):\n",
        "    inp = inp or in_path\n",
        "    outp = outp or out_path\n",
        "    cmd = [\"python3\", \"-m\", \"demucs.separate\", \"-o\", str(outp), \"-n\", model]\n",
        "    if mp3:\n",
        "        cmd += [\"--mp3\", f\"--mp3-bitrate={mp3_rate}\"]\n",
        "    if float32:\n",
        "        cmd += [\"--float32\"]\n",
        "    if int24:\n",
        "        cmd += [\"--int24\"]\n",
        "    if two_stems is not None:\n",
        "        cmd += [f\"--two-stems={two_stems}\"]\n",
        "    files = [str(f) for f in find_files(inp)]\n",
        "    if not files:\n",
        "        print(f\"No valid audio files in {in_path}\")\n",
        "        return\n",
        "    print(\"Going to separate the files:\")\n",
        "    print('\\n'.join(files))\n",
        "    print(\"With command: \", \" \".join(cmd))\n",
        "    p = sp.Popen(cmd + files, stdout=sp.PIPE, stderr=sp.PIPE)\n",
        "    copy_process_streams(p)\n",
        "    p.wait()\n",
        "    if p.returncode != 0:\n",
        "        print(\"Command failed, something went wrong.\")\n",
        "\n",
        "\n",
        "def from_upload():\n",
        "    out_path = Path('separated')\n",
        "    in_path = Path('tmp_in')\n",
        "\n",
        "    if in_path.exists():\n",
        "        rmtree(in_path)\n",
        "    in_path.mkdir()\n",
        "\n",
        "    if out_path.exists():\n",
        "        rmtree(out_path)\n",
        "    out_path.mkdir()\n",
        "\n",
        "    uploaded = files.upload()\n",
        "    for name, content in uploaded.items():\n",
        "        (in_path / name).write_bytes(content)\n",
        "    separate(in_path, out_path)\n"
      ],
      "metadata": {
        "id": "jE5zN-CXzJal"
      },
      "execution_count": null,
      "outputs": []
    },
    {
      "cell_type": "code",
      "source": [
        "# Separation to bass, drums, other and vocals"
      ],
      "metadata": {
        "id": "ZfE5vVh1Ue-B"
      },
      "execution_count": null,
      "outputs": []
    },
    {
      "cell_type": "code",
      "source": [
        "separate()"
      ],
      "metadata": {
        "id": "iUO_HO0QAUtO"
      },
      "execution_count": null,
      "outputs": []
    },
    {
      "cell_type": "code",
      "source": [
        "# Moving out vocals to cleaned folder\n",
        "\n",
        "import os\n",
        "import shutil\n",
        "\n",
        "source_dir = \"/content/wavs_modified/htdemucs\"\n",
        "dest_dir = \"/content/cleaned\"\n",
        "\n",
        "# Create the destination directory if it doesn't exist\n",
        "if not os.path.exists(dest_dir):\n",
        "    os.makedirs(dest_dir)\n",
        "\n",
        "# Loop through all the folders in the source directory\n",
        "for folder in os.listdir(source_dir):\n",
        "    if folder.startswith('.'):\n",
        "        continue\n",
        "    # Get the path to the vocals file in the current folder\n",
        "    vocals_path = os.path.join(source_dir, folder, \"vocals.mp3\")\n",
        "    # Create the destination path for the file\n",
        "    dest_path = os.path.join(dest_dir, folder + \".mp3\")\n",
        "    # Copy the file to the destination directory with the appropriate name\n",
        "    shutil.copyfile(vocals_path, dest_path)\n"
      ],
      "metadata": {
        "id": "Fh1V4JlLQWZp"
      },
      "execution_count": null,
      "outputs": []
    },
    {
      "cell_type": "code",
      "source": [
        "# Zipping files\n",
        "\n",
        "import os\n",
        "import zipfile\n",
        "\n",
        "# Set the path to the folder containing the audio files\n",
        "folder_path = '/content/cleaned'\n",
        "\n",
        "# Set the path to the folder where you want to save the zipped files\n",
        "output_path = '/content/Zipped/'\n",
        "\n",
        "# Create the output folder if it doesn't exist\n",
        "if not os.path.exists(output_path):\n",
        "    os.makedirs(output_path)\n",
        "\n",
        "# Get a list of all the audio files in the folder\n",
        "audio_files = [f for f in os.listdir(folder_path) if f.endswith('.mp3') or f.endswith('.wav')]\n",
        "\n",
        "# Zip each file individually\n",
        "for file_name in audio_files:\n",
        "    with zipfile.ZipFile(os.path.join(output_path, file_name + '.zip'), 'w', compression=zipfile.ZIP_DEFLATED) as zip_file:\n",
        "        zip_file.write(os.path.join(folder_path, file_name), file_name)\n",
        "\n",
        "print('All audio files have been zipped and saved to', output_path)\n"
      ],
      "metadata": {
        "colab": {
          "base_uri": "https://localhost:8080/"
        },
        "id": "ZywBhgDWVZdn",
        "outputId": "3f0194f7-aee1-43e8-8191-a1522af9f317"
      },
      "execution_count": null,
      "outputs": [
        {
          "output_type": "stream",
          "name": "stdout",
          "text": [
            "All audio files have been zipped and saved to /content/Zipped/\n"
          ]
        }
      ]
    },
    {
      "cell_type": "code",
      "source": [
        "# Cleaning data in any given folder\n",
        "\n",
        "import os\n",
        "\n",
        "directory = '/content/wavs'\n",
        "\n",
        "for root, dirs, files in os.walk(directory, topdown=False):\n",
        "    for file in files:\n",
        "        try:\n",
        "            os.remove(os.path.join(root, file))\n",
        "        except OSError as e:\n",
        "            print(f\"Error deleting {file}: {e}\")"
      ],
      "metadata": {
        "id": "irjuyFpR0mec"
      },
      "execution_count": null,
      "outputs": []
    },
    {
      "cell_type": "code",
      "source": [
        "# Deleting folders\n",
        "import os\n",
        "\n",
        "directory = '/content/wavs'\n",
        "\n",
        "for root, dirs, files in os.walk(directory, topdown=False):\n",
        "    for dir in dirs:\n",
        "        try:\n",
        "            os.rmdir(os.path.join(root, dir))\n",
        "        except OSError as e:\n",
        "            print(f\"Error deleting {dir}: {e}\")\n"
      ],
      "metadata": {
        "id": "Rlq5m7Z17qSc"
      },
      "execution_count": null,
      "outputs": []
    },
    {
      "cell_type": "code",
      "source": [
        "# Creating new folder in google drive\n",
        "\n",
        "!mkdir /content/drive/My\\ Drive/RS_Data\n"
      ],
      "metadata": {
        "id": "AjQ64qxSE5mc"
      },
      "execution_count": null,
      "outputs": []
    },
    {
      "cell_type": "code",
      "source": [
        "# Moving data to google drive\n",
        "\n",
        "!cp -r /content/Zipped /content/drive/My\\ Drive/RS_Data/\n",
        "!cp /content/transcription.txt /content/drive/My\\ Drive/RS_Data/\n"
      ],
      "metadata": {
        "id": "uW73ER0OXZJf"
      },
      "execution_count": null,
      "outputs": []
    }
  ]
}
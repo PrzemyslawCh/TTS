{
  "nbformat": 4,
  "nbformat_minor": 0,
  "metadata": {
    "colab": {
      "provenance": [],
      "authorship_tag": "ABX9TyMsc2bbJX8hn7gFxwkd7W/e",
      "include_colab_link": true
    },
    "kernelspec": {
      "name": "python3",
      "display_name": "Python 3"
    },
    "language_info": {
      "name": "python"
    }
  },
  "cells": [
    {
      "cell_type": "markdown",
      "metadata": {
        "id": "view-in-github",
        "colab_type": "text"
      },
      "source": [
        "<a href=\"https://colab.research.google.com/github/PrzemyslawCh/TTS/blob/main/Splitting_Audio.ipynb\" target=\"_parent\"><img src=\"https://colab.research.google.com/assets/colab-badge.svg\" alt=\"Open In Colab\"/></a>"
      ]
    },
    {
      "cell_type": "code",
      "execution_count": null,
      "metadata": {
        "colab": {
          "base_uri": "https://localhost:8080/"
        },
        "id": "TIeOxApivNSK",
        "outputId": "61e555a1-5e40-4e63-a951-6eb9b7aeeb8c"
      },
      "outputs": [
        {
          "output_type": "stream",
          "name": "stdout",
          "text": [
            "Looking in indexes: https://pypi.org/simple, https://us-python.pkg.dev/colab-wheels/public/simple/\n",
            "Requirement already satisfied: ffmpeg-python in /usr/local/lib/python3.10/dist-packages (0.2.0)\n",
            "Requirement already satisfied: future in /usr/local/lib/python3.10/dist-packages (from ffmpeg-python) (0.18.3)\n"
          ]
        }
      ],
      "source": [
        "!pip install ffmpeg-python\n",
        "import ffmpeg"
      ]
    },
    {
      "cell_type": "code",
      "source": [
        "import re\n",
        "import subprocess\n",
        "import os\n",
        "import ffmpeg\n",
        "\n",
        "def get_silences(filename, silence_len=1.0, silence_db=-30):\n",
        "    result = (\n",
        "        ffmpeg.input(filename)\n",
        "        .output('pipe:', format='null', hide_banner=None)\n",
        "        .global_args('-af', f'silencedetect=noise={silence_db}dB:d={silence_len}')\n",
        "        .run(capture_stdout=True, capture_stderr=True)\n",
        "    )\n",
        "    output = result[1].decode()\n",
        "    silences = re.findall(r'\\[silencedetect @ \\S+\\] silence_start: (\\S+)', output)\n",
        "    silences = [0.] + [float(s) for s in silences]\n",
        "    if 'silence_end' in output:\n",
        "        silences += [float(s) for s in re.findall(r'\\[silencedetect @ \\S+\\] silence_end: (\\S+)', output)]\n",
        "    else:\n",
        "        silences += [float(ffmpeg.probe(filename)['format']['duration'])]\n",
        "    return [(silences[i], silences[i+1]) for i in range(0, len(silences)-1, 2)]\n",
        "\n",
        "def split_on_silences(filename, output_dir, silence_len=1.0, silence_db=-30):\n",
        "    if not os.path.exists(output_dir):\n",
        "        os.makedirs(output_dir)\n",
        "    silences = get_silences(filename, silence_len, silence_db)\n",
        "    for i in range(len(silences)-1):\n",
        "        start_time = silences[i][1]\n",
        "        end_time = silences[i+1][0]\n",
        "        basename = os.path.basename(filename)\n",
        "        name, ext = os.path.splitext(basename)\n",
        "        output_filename = os.path.join(output_dir, f\"{name}_{i+1}{ext}\")\n",
        "        ffmpeg.input(filename).output(output_filename, ss=start_time, t=end_time-start_time).run()\n",
        "\n",
        "# Use your file path\n",
        "src_filename = \"/content/drive/MyDrive/s-01.wav\"\n",
        "output_dir = \"/content/drive/MyDrive/Saker\"\n",
        "\n",
        "split_on_silences(src_filename, output_dir)\n"
      ],
      "metadata": {
        "id": "7eDmJPErvdA1"
      },
      "execution_count": null,
      "outputs": []
    },
    {
      "cell_type": "code",
      "source": [
        "!pip install pydub\n"
      ],
      "metadata": {
        "colab": {
          "base_uri": "https://localhost:8080/"
        },
        "id": "5CTVqP6Pwj_P",
        "outputId": "d7a4cfec-2421-4775-db83-de9bb5590096"
      },
      "execution_count": null,
      "outputs": [
        {
          "output_type": "stream",
          "name": "stdout",
          "text": [
            "Looking in indexes: https://pypi.org/simple, https://us-python.pkg.dev/colab-wheels/public/simple/\n",
            "Collecting pydub\n",
            "  Downloading pydub-0.25.1-py2.py3-none-any.whl (32 kB)\n",
            "Installing collected packages: pydub\n",
            "Successfully installed pydub-0.25.1\n"
          ]
        }
      ]
    },
    {
      "cell_type": "code",
      "source": [
        "import os\n",
        "from pydub import AudioSegment\n",
        "from pydub.silence import split_on_silence\n",
        "\n",
        "def split_audio_on_silence(input_file, output_dir, min_silence_duration=1000, silence_threshold=-40):\n",
        "    if not os.path.exists(output_dir):\n",
        "        os.makedirs(output_dir)\n",
        "\n",
        "    audio = AudioSegment.from_wav(input_file)\n",
        "    chunks = split_on_silence(\n",
        "        audio,\n",
        "        min_silence_duration,\n",
        "        silence_thresh=silence_threshold\n",
        "    )\n",
        "\n",
        "    for i, chunk in enumerate(chunks):\n",
        "        output_file = os.path.join(output_dir, f\"{i+1}.wav\")\n",
        "        chunk.export(output_file, format=\"wav\")\n",
        "\n",
        "# Provide your input file path and output directory\n",
        "input_file = \"/content/drive/MyDrive/s-01.wav\"\n",
        "output_dir = \"/content/drive/MyDrive/Saker\"\n",
        "\n",
        "split_audio_on_silence(input_file, output_dir)\n",
        ""
      ],
      "metadata": {
        "id": "9B0RKSPjwie0"
      },
      "execution_count": null,
      "outputs": []
    },
    {
      "cell_type": "code",
      "source": [
        "import os\n",
        "from pydub import AudioSegment\n",
        "from pydub.silence import detect_nonsilent\n",
        "\n",
        "def split_audio_with_silence(input_file, output_dir, target_duration=30, min_silence_duration=1000, silence_threshold=-40):\n",
        "    if not os.path.exists(output_dir):\n",
        "        os.makedirs(output_dir)\n",
        "\n",
        "    audio = AudioSegment.from_wav(input_file)\n",
        "    duration = len(audio) / 1000  # Convert duration to seconds\n",
        "\n",
        "    num_parts = int(duration / target_duration)\n",
        "    remaining_duration = duration % target_duration\n",
        "\n",
        "    if remaining_duration > 0:\n",
        "        num_parts += 1\n",
        "\n",
        "    nonsilent_parts = detect_nonsilent(audio, min_silence_duration, silence_threshold)\n",
        "\n",
        "    num_chunks = len(nonsilent_parts)\n",
        "\n",
        "    for i in range(num_parts):\n",
        "        if i >= num_chunks:\n",
        "            # If there are no more chunks from the silence splitting, use the remaining duration\n",
        "            start_time = i * target_duration * 1000  # Convert to milliseconds\n",
        "            end_time = (i + 1) * target_duration * 1000  # Convert to milliseconds\n",
        "        else:\n",
        "            chunk = nonsilent_parts[i]\n",
        "            start_time = chunk[1]\n",
        "            end_time = chunk[0]\n",
        "\n",
        "        part = audio[start_time:end_time].set_channels(1)  # Convert to mono channel\n",
        "        output_file = os.path.join(output_dir, f\"{i+1}.wav\")\n",
        "        part.export(output_file, format=\"wav\")\n",
        "\n",
        "# Provide your input file path and output directory\n",
        "input_file = \"/content/drive/MyDrive/s-01.wav\"\n",
        "output_dir = \"/content/drive/MyDrive/Saker\"\n",
        "\n",
        "split_audio_with_silence(input_file, output_dir)\n",
        "\n"
      ],
      "metadata": {
        "id": "bleUCGEfygGG"
      },
      "execution_count": null,
      "outputs": []
    },
    {
      "cell_type": "code",
      "source": [
        "from google.colab import drive\n",
        "drive.mount('/content/drive')\n"
      ],
      "metadata": {
        "colab": {
          "base_uri": "https://localhost:8080/"
        },
        "id": "HuZdU8MbvsUt",
        "outputId": "1879dd2a-80ce-49b0-912e-797a183b5762"
      },
      "execution_count": null,
      "outputs": [
        {
          "output_type": "stream",
          "name": "stdout",
          "text": [
            "Mounted at /content/drive\n"
          ]
        }
      ]
    }
  ]
}